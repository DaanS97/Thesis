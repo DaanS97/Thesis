{
 "cells": [
  {
   "cell_type": "code",
   "execution_count": null,
   "id": "bc4e2740",
   "metadata": {},
   "outputs": [],
   "source": [
    "import sys\n",
    "!{sys.executable} -m pip install rdflib"
   ]
  },
  {
   "cell_type": "code",
   "execution_count": 1,
   "id": "e3060ca2",
   "metadata": {},
   "outputs": [],
   "source": [
    "from rdflib import Graph\n",
    "from bs4 import *\n",
    "import requests\n",
    "import os\n",
    "from os import walk\n",
    "import numpy as np\n",
    "import pandas as pd\n",
    "import matplotlib.pyplot as plt\n",
    "from PIL import Image\n",
    "import seaborn as sns\n",
    "import sys\n",
    "from rdflib import URIRef,Literal\n",
    "from urllib.request import urlopen\n",
    "import uuid\n",
    "import multiprocessing as mp\n",
    "import gc\n",
    "import random"
   ]
  },
  {
   "cell_type": "markdown",
   "id": "5be2f4b9",
   "metadata": {},
   "source": [
    "### Data Loading"
   ]
  },
  {
   "cell_type": "code",
   "execution_count": 2,
   "id": "1e47d494",
   "metadata": {},
   "outputs": [],
   "source": [
    "'''Loads in all the comics. paths of the files \n",
    "in the comic folders that dont end in either: \n",
    ".jpg, .png or jpeg are not saved.'''\n",
    "\n",
    "path = r\"/data/decompressed\"\n",
    "\n",
    "files = []\n",
    "comics = [x[1] for x in os.walk(path)][0]\n",
    "for (root, dirnames, filenames) in walk(path):\n",
    "    for fn in filenames:\n",
    "        if not fn.lower().endswith((\".jpg\", \".png\", \".jpeg\")):\n",
    "            continue\n",
    "        else:\n",
    "            files.append(os.path.join(root,fn))"
   ]
  },
  {
   "cell_type": "code",
   "execution_count": 9,
   "id": "abd47958",
   "metadata": {},
   "outputs": [],
   "source": [
    "def create_directory(path):\n",
    "    if not os.path.exists(path):\n",
    "        os.makedirs(path)"
   ]
  },
  {
   "cell_type": "code",
   "execution_count": 7,
   "id": "5545ceb6",
   "metadata": {},
   "outputs": [],
   "source": [
    "'''Convert all page paths to Image objects and store them'''\n",
    "def get_images(paths, url, directory):\n",
    "    create_directory(directory)\n",
    "    ex = 0\n",
    "    if paths != []:\n",
    "        if url:\n",
    "            for p in paths:\n",
    "                try:\n",
    "                    im = Image.open(requests.get(p, stream=True).raw).convert('RGB')\n",
    "                except:\n",
    "                    ex += 1\n",
    "                    print(ex)\n",
    "                    continue\n",
    "                    \n",
    "                name = uuid.uuid4().hex\n",
    "                im.save(directory+name+\".jpg\")\n",
    "                im.close\n",
    "        else:\n",
    "            for p in paths:\n",
    "                im = Image.open(p).convert('RGB')\n",
    "\n",
    "                name = uuid.uuid4().hex\n",
    "                im.save(directory+name+\".jpg\")\n",
    "                im.close"
   ]
  },
  {
   "cell_type": "code",
   "execution_count": 3,
   "id": "0c5ef49c",
   "metadata": {},
   "outputs": [
    {
     "name": "stdout",
     "output_type": "stream",
     "text": [
      "CPU times: user 3min 33s, sys: 11.4 s, total: 3min 44s\n",
      "Wall time: 4min 28s\n"
     ]
    },
    {
     "data": {
      "text/plain": [
       "<Graph identifier=Nbebe9eab88e848479ca6a2dcba8a6d1f (<class 'rdflib.graph.Graph'>)>"
      ]
     },
     "execution_count": 3,
     "metadata": {},
     "output_type": "execute_result"
    }
   ],
   "source": [
    "%%time\n",
    "g = Graph()\n",
    "data = \"https://data.spinque.com/ld/data/netwerkoorlogsbronnen/beeldbank_niod/data/export.nt\"\n",
    "g.parse(data)"
   ]
  },
  {
   "cell_type": "code",
   "execution_count": 4,
   "id": "b099a0d2",
   "metadata": {},
   "outputs": [
    {
     "name": "stdout",
     "output_type": "stream",
     "text": [
      "CPU times: user 6.69 s, sys: 1.56 s, total: 8.25 s\n",
      "Wall time: 8.68 s\n"
     ]
    }
   ],
   "source": [
    "%%time\n",
    "thumbnails = [u.n3()[1:-1] for _,_,u in g if \"https://images.memorix.nl/niod/thumb/\" in u]"
   ]
  },
  {
   "cell_type": "code",
   "execution_count": null,
   "id": "5cead9c2",
   "metadata": {},
   "outputs": [],
   "source": [
    "%%time\n",
    "get_images(files, False, \"/data/comics/\")"
   ]
  },
  {
   "cell_type": "code",
   "execution_count": 5,
   "id": "7cbf5348",
   "metadata": {},
   "outputs": [],
   "source": [
    "thumbnails_sample = random.sample(thumbnails, 1000)"
   ]
  },
  {
   "cell_type": "code",
   "execution_count": 10,
   "id": "a6bdc394",
   "metadata": {},
   "outputs": [
    {
     "name": "stdout",
     "output_type": "stream",
     "text": [
      "CPU times: user 53.6 s, sys: 4.38 s, total: 58 s\n",
      "Wall time: 3min 49s\n"
     ]
    }
   ],
   "source": [
    "%%time\n",
    "get_images(thumbnails_sample, True, \"/data/photos_testset_noise/\")"
   ]
  },
  {
   "cell_type": "markdown",
   "id": "670f5cd1",
   "metadata": {},
   "source": [
    "### LEGACY"
   ]
  }
 ],
 "metadata": {
  "kernelspec": {
   "display_name": "Python 3",
   "language": "python",
   "name": "python3"
  },
  "language_info": {
   "codemirror_mode": {
    "name": "ipython",
    "version": 3
   },
   "file_extension": ".py",
   "mimetype": "text/x-python",
   "name": "python",
   "nbconvert_exporter": "python",
   "pygments_lexer": "ipython3",
   "version": "3.8.12"
  }
 },
 "nbformat": 4,
 "nbformat_minor": 5
}
