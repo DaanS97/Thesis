{
 "cells": [
  {
   "cell_type": "code",
   "execution_count": null,
   "id": "0fc8946d",
   "metadata": {},
   "outputs": [],
   "source": [
    "import sys\n",
    "!{sys.executable} -m pip install --upgrade numpy==1.21\n",
    "import numpy as np\n",
    "np.__version__"
   ]
  },
  {
   "cell_type": "code",
   "execution_count": null,
   "id": "b9a36887",
   "metadata": {},
   "outputs": [],
   "source": [
    "import numpy as np\n",
    "np.__version__"
   ]
  },
  {
   "cell_type": "code",
   "execution_count": 867,
   "id": "deb12e35",
   "metadata": {},
   "outputs": [],
   "source": [
    "import torch\n",
    "import os\n",
    "import numpy as np\n",
    "from os import walk\n",
    "import torchvision\n",
    "from torchvision import datasets,transforms\n",
    "from torchvision.transforms import ToTensor\n",
    "import torch.nn as nn\n",
    "import torchvision.models as models\n",
    "from PIL import Image\n",
    "from torchvision.io import read_image\n",
    "from torchvision.models.feature_extraction import create_feature_extractor, get_graph_node_names\n",
    "from torchsummary import summary\n",
    "from scipy.spatial import distance\n",
    "from annoy import AnnoyIndex\n",
    "import pickle \n",
    "import gc\n",
    "import random\n",
    "from sklearn import preprocessing\n",
    "import torch.nn.functional as F\n",
    "from statistics import mean\n",
    "import pandas as pd\n",
    "import matplotlib.pyplot as plt\n",
    "import PIL\n",
    "from IPython.display import clear_output\n",
    "import tensorflow as tf\n",
    "import tensorflow_hub as hub\n",
    "import copy\n",
    "from collections import Counter"
   ]
  },
  {
   "cell_type": "markdown",
   "id": "0bf51462",
   "metadata": {},
   "source": [
    "# Preprocessing, embedding and search"
   ]
  },
  {
   "cell_type": "markdown",
   "id": "26928996",
   "metadata": {},
   "source": [
    "## Transform class"
   ]
  },
  {
   "cell_type": "code",
   "execution_count": null,
   "id": "02c00879",
   "metadata": {},
   "outputs": [],
   "source": [
    "class Transform:\n",
    "    def __init__(self, out_c = 3, normalize=False, mean=None, std=None):\n",
    "        if normalize:\n",
    "            self.transformer = transforms.Compose([transforms.Resize((256,256)),\n",
    "                                               transforms.Grayscale(num_output_channels=out_c),\n",
    "                                               transforms.ToTensor(), \n",
    "                                               transforms.Normalize(mean, std)])\n",
    "        else:\n",
    "            self.transformer = transforms.Compose([transforms.Resize((256,256)),\n",
    "                                               transforms.Grayscale(num_output_channels=out_c),\n",
    "                                               transforms.ToTensor()])"
   ]
  },
  {
   "cell_type": "markdown",
   "id": "60ab6b4d",
   "metadata": {},
   "source": [
    "## Dataset class"
   ]
  },
  {
   "cell_type": "code",
   "execution_count": null,
   "id": "2aa01ad5",
   "metadata": {},
   "outputs": [],
   "source": [
    "class Dataset:\n",
    "    \n",
    "    def __init__(self, folder_path, transform = None, convolve = False, c=3, ex=False):\n",
    "        self.folder_path = folder_path\n",
    "        self.names = [name for name in os.listdir(folder_path) if name != \".DS_Store\"]\n",
    "        self.transform = transform\n",
    "        self.convolve = convolve\n",
    "        self.c = c\n",
    "        self.ex = ex\n",
    "        \n",
    "    def __len__(self):\n",
    "        return len(self.names)\n",
    "    \n",
    "    def __getitem__(self, idx):\n",
    "        if self.ex:\n",
    "            im_path = \"/Users/daanschoppink/Documents-Local/photos_sample/\"+self.names[idx]\n",
    "        else:\n",
    "            im_path = os.path.join(self.folder_path, self.names[idx])\n",
    "        image = Image.open(im_path)\n",
    "        if self.transform:\n",
    "            image = self.transform(image)\n",
    "        if self.convolve:\n",
    "            image = Convolve(self.c).detect_edges(image)\n",
    "        return image, im_path, image, self.names[idx]"
   ]
  },
  {
   "cell_type": "markdown",
   "id": "6c76edd3",
   "metadata": {},
   "source": [
    "## Model class"
   ]
  },
  {
   "cell_type": "code",
   "execution_count": null,
   "id": "705b57f6",
   "metadata": {},
   "outputs": [],
   "source": [
    "class Model:\n",
    "    def __init__(self, model_str, input_shape, weights=True):\n",
    "        self.model_str= model_str\n",
    "        self.weights = weights\n",
    "        self.input_shape = input_shape\n",
    "        self.model = getattr(torchvision.models, model_str)(weights=weights).eval()\n",
    "        self.model.eval()\n",
    "        self.extractor_model = None\n",
    "    \n",
    "    def summary(self):\n",
    "        return summary(self.model, tuple(self.input_shape))\n",
    "    \n",
    "    def feature_extractor(self, return_key, return_value):\n",
    "        self.return_key = return_key\n",
    "        return_nodes = {return_key : return_value}\n",
    "        # self.model.eval()\n",
    "        self.extractor_model = create_feature_extractor(self.model, return_nodes=return_nodes).eval()\n",
    "        # self.extractor_model.eval()\n",
    "        \n",
    "    def embed(self, data):\n",
    "        shape_error = \"Error, input data shape doesn't match model input shape {}\".format(self.input_shape)\n",
    "        if isinstance(data, Dataset):\n",
    "            return ((self.extractor_model(d[0].unsqueeze(0))[self.return_key], d[1], d[2], d[3])\\\n",
    "                    if list(d[0].shape) == self.input_shape else print(shape_error) for d in data)\n",
    "        else:\n",
    "            if list(data[0].shape) == self.input_shape:\n",
    "                return (self.extractor_model(data[0].unsqueeze(0))[self.return_key], data[1], data[2], data[3])\n",
    "            else:\n",
    "                print(shape_error)        "
   ]
  },
  {
   "cell_type": "markdown",
   "id": "cda433fd",
   "metadata": {},
   "source": [
    "## Tree class"
   ]
  },
  {
   "cell_type": "code",
   "execution_count": null,
   "id": "a97b3721",
   "metadata": {},
   "outputs": [],
   "source": [
    "class Tree():\n",
    "    def __init__(self, f, metric):\n",
    "        self.tree = AnnoyIndex(f, metric)\n",
    "        self.metric = metric\n",
    "        self.f = f\n",
    "        self.idx_image = {}\n",
    "        \n",
    "    def transformTensor(self, tensor):\n",
    "        return tensor.squeeze(0).detach().numpy().flatten()\n",
    "    \n",
    "    def indexData(self, d, i):\n",
    "        self.idx_image[i] = d\n",
    "\n",
    "    def buildTree(self, embeddings, name, n_trees = 10):\n",
    "        self.tree.on_disk_build(\"/Users/daanschoppink/Documents/UvA/Thesis_Master/trees/\"+name+\"_tree.ann\")\n",
    "        for data in embeddings:\n",
    "            for i, d in enumerate(data):\n",
    "                \n",
    "                self.tree.add_item(i, d[0])\n",
    "                self.idx_image[i] = (d[1], d[2], d[3])\n",
    "                \n",
    "                del d\n",
    "        self.tree.build(n_trees)\n",
    "        # self.tree.save(\"/Users/daanschoppink/Documents/UvA/Thesis_Master/trees/\"+name+\"_tree.ann\")\n",
    "\n",
    "        with open(\"/Users/daanschoppink/Documents/UvA/Thesis_Master/indexes/\"+name +'_idx.pkl', 'wb') as o:\n",
    "            pickle.dump(self.idx_image, o)\n",
    "      \n",
    "    def search(self, v, n, return_type=\"index\", return_distance = False, search_k=-1 ):\n",
    "        if return_type=='index':\n",
    "            return self.tree.get_nns_by_vector(v, n, search_k=-1, include_distances=return_distance)\n",
    "        elif return_type=='image':\n",
    "            indexes = self.tree.get_nns_by_vector(v, n, search_k=-1, include_distances=return_distance)\n",
    "            # print(indexes)\n",
    "            if return_distance:\n",
    "                return [(torchvision.transforms.Resize((256, 256))(Image.open(self.idx_image[i][0])), transforms.ToPILImage()(self.idx_image[i][1]), self.idx_image[i][2], d) for i, d in zip(indexes[0],indexes[1])]\n",
    "            else:\n",
    "                return [(torchvision.transforms.Resize((256, 256))(Image.open(self.idx_image[i][0])), transforms.ToPILImage()(self.idx_image[i][1]), self.idx_image[i][2]) for i in indexes]\n",
    "        \n",
    "        "
   ]
  },
  {
   "cell_type": "markdown",
   "id": "47182c45",
   "metadata": {},
   "source": [
    "# Domain Adaptation"
   ]
  },
  {
   "cell_type": "markdown",
   "id": "9f938220",
   "metadata": {},
   "source": [
    "## Edge detecting"
   ]
  },
  {
   "cell_type": "code",
   "execution_count": null,
   "id": "14a3abd5",
   "metadata": {},
   "outputs": [],
   "source": [
    "'''\n",
    "Edge decting by gaussian blurring an image\n",
    "and convolving it with sobel kernels\n",
    "'''\n",
    "class Convolve():\n",
    "    def __init__(self, k, s=None):\n",
    "        self.k = k\n",
    "        self.s = s\n",
    "        \n",
    "    def sobel_kernel(self):\n",
    "        vertical = torch.tensor([[[[1.,2.,1.], \n",
    "                                   [0.,0.,0.], \n",
    "                                   [-1.,-2.,-1.]]]])\n",
    "        \n",
    "        horizontal = torch.tensor([[[[-1.,0,1.], \n",
    "                                     [-2.,0.,2.],\n",
    "                                     [-1.,0,1.]]]])\n",
    "        return vertical, horizontal\n",
    "    \n",
    "    def blur(self, img):\n",
    "         if self.s == None:\n",
    "            return transforms.GaussianBlur(kernel_size = self.k)(img)\n",
    "         else:\n",
    "            return transforms.GaussianBlur(kernel_size = self.k, sigma = self.s)(img)\n",
    "\n",
    "    def detect_edges(self, img):\n",
    "        img = self.blur(img)\n",
    "        v, h = self.sobel_kernel()\n",
    "        img_v = F.conv2d(img,v)\n",
    "        img_h = F.conv2d(img, h)\n",
    "        \n",
    "        img = np.sqrt(pow(img_v, 2.0) + pow(img_h, 2.0))\n",
    "        img = img.expand(3, -1, -1)\n",
    "        img = transforms.Resize((256,256))(img)\n",
    "        return img"
   ]
  },
  {
   "cell_type": "markdown",
   "id": "7895c29b",
   "metadata": {},
   "source": [
    "## Neural style transfer"
   ]
  },
  {
   "cell_type": "code",
   "execution_count": null,
   "id": "8619d799",
   "metadata": {},
   "outputs": [],
   "source": [
    "'''\n",
    "Source: https://www.tensorflow.org/tutorials/generative/style_transfer\n",
    "'''\n",
    "class NTransfer():\n",
    "    def __init__(self, folder_path, model=None):\n",
    "        self.folder_path = folder_path\n",
    "        self.names = [name for name in os.listdir(folder_path) if name != \".DS_Store\"]\n",
    "        if model != None:\n",
    "            self.model = hub.load(model)\n",
    "        os.environ['TFHUB_MODEL_LOAD_FORMAT'] = 'COMPRESSED'\n",
    "        \n",
    "    def __len__(self):\n",
    "        return len(self.names)\n",
    "    \n",
    "    def __getitem__(self, idx):\n",
    "        im_path = os.path.join(self.folder_path, self.names[idx])\n",
    "        img = tf.io.read_file(im_path)\n",
    "        img = tf.image.decode_image(img, channels=3)\n",
    "        img = tf.image.convert_image_dtype(img, tf.float32)\n",
    "\n",
    "        img = tf.image.resize(img, (256,256))\n",
    "        img = img[tf.newaxis, :]\n",
    "\n",
    "        return img, self.names[idx]\n",
    "        \n",
    "    def stylize(self, path, style_imgs):\n",
    "        if len(style_imgs) > 1:\n",
    "            for img, style in zip(self, style_imgs):\n",
    "                self.save_image(self.model(tf.constant(img[0]), tf.constant(style[0]))[0], path, img[1])\n",
    "        else:\n",
    "            for img in self:\n",
    "                self.save_image(self.model(tf.constant(img[0]), tf.constant(style_imgs[0][0]))[0], path, img[1])\n",
    "\n",
    "    def save_image(self, tensor, path, name):\n",
    "        tensor = tensor*255\n",
    "        tensor = np.array(tensor, dtype=np.uint8)\n",
    "        \n",
    "        if np.ndim(tensor)>3:\n",
    "            assert tensor.shape[0] == 1\n",
    "        tensor = tensor[0]\n",
    "        img = Image.fromarray(tensor)\n",
    "        img.save(path+'/'+name)\n",
    "        img.close\n",
    "    "
   ]
  },
  {
   "cell_type": "markdown",
   "id": "4ca7c7a3",
   "metadata": {},
   "source": [
    "## Support functions"
   ]
  },
  {
   "cell_type": "code",
   "execution_count": null,
   "id": "7a65a578",
   "metadata": {},
   "outputs": [],
   "source": [
    "'''\n",
    "Source: https://stackoverflow.com/questions/37921295/python-pil-image-make-3x3-grid-from-sequence-images\n",
    "'''\n",
    "def image_grid(imgs, rows, cols):\n",
    "    assert len(imgs) == rows*cols\n",
    "\n",
    "    w, h = imgs[0].size\n",
    "    grid = Image.new('RGB', size=(cols*w, rows*h))\n",
    "    grid_w, grid_h = grid.size\n",
    "    \n",
    "    for i, img in enumerate(imgs):\n",
    "        grid.paste(img, box=(i%cols*w, i//cols*h))\n",
    "    return grid"
   ]
  },
  {
   "cell_type": "code",
   "execution_count": null,
   "id": "135a79be",
   "metadata": {},
   "outputs": [],
   "source": [
    "def mean_vgg16(A):\n",
    "    B = np.zeros(512)\n",
    "    A = A.squeeze(0)\n",
    "    for i, a in enumerate(A):\n",
    "        B[i] = torch.mean(a).detach().numpy()\n",
    "    return B"
   ]
  },
  {
   "cell_type": "code",
   "execution_count": null,
   "id": "f9eb251e",
   "metadata": {},
   "outputs": [],
   "source": [
    "def save_image(tensor, path, name):\n",
    "        tensor = tensor*255\n",
    "        tensor = np.array(tensor, dtype=np.uint8)\n",
    "        \n",
    "        if np.ndim(tensor)>3:\n",
    "            assert tensor.shape[0] == 1\n",
    "        tensor = tensor[0]\n",
    "        img = Image.fromarray(tensor)\n",
    "        img.save(path+'/'+name)\n",
    "        img.close"
   ]
  },
  {
   "cell_type": "markdown",
   "id": "8ad78227",
   "metadata": {},
   "source": [
    "# Building datasets"
   ]
  },
  {
   "cell_type": "code",
   "execution_count": 941,
   "id": "f5102acc",
   "metadata": {},
   "outputs": [],
   "source": [
    "'''\n",
    "Comics and photos paths\n",
    "'''\n",
    "photos_path = \"/data/photos_testset\"\n",
    "comics_path = \"/data/comics_testset\"\n",
    "pc_path = \"/data/posters_covers_testset\"\n",
    "comics_sample_path = \"/data/Documents-Local/comics_sample\"\n",
    "\n",
    "\n",
    "# Where 0.0 is the subfolder with alpha level 0.0\n",
    "adain_path_0 = \"/data/stylized_photo_AdaIN_testset/0.0\"\n",
    "adain_path_2 = \"/data/stylized_photo_AdaIN_testset/0.2\"\n",
    "adain_path_4 = \"/data/stylized_photo_AdaIN_testset/0.4\"\n",
    "adain_path_6 = \"/data/stylized_photo_AdaIN_testset/0.6\"\n",
    "adain_path_8 = \"/data/stylized_photo_AdaIN_testset/0.8\"\n",
    "adain_path_1 = \"/data/stylized_photo_AdaIN_testset/1.0\"\n",
    "\n",
    "# Adain stylization with alpha 1.0 applied to the testset with 1000 extra photos as noise\n",
    "adain_noise_path_E = \"/data/adain_noise/EfficientNetV2/\"\n",
    "adain_noise_path_R = \"/data/adain_noise/ResNet/\"\n",
    "\n",
    "adain_no_noise_path_E = \"/data/adain_no_noise/EfficientNetV2/\"\n",
    "adain_no_noise_path_R = \"/data/adain_no_noise/ResNet/\"\n",
    "\n",
    "adain_sample_path = \"/data/Documents-Local/adain_sample\"\n",
    "\n",
    "# Path to folder containing the styles for Gatys algorithm\n",
    "styles_path = \"/data/styles\"\n",
    "stylized_photo_path = \"/data/stylized_photo_testset\"\n",
    "\n",
    "# Path to folder containing the convolved photos, 33 being the subfolder for 33 gaussian blur kernel\n",
    "convolved_path_3 = \"/data/convoled_photo_testset/3\"\n",
    "convolved_path_9 = \"/data/convoled_photo_testset/9\"\n",
    "convolved_path_15 = \"/data/convoled_photo_testset/15\"\n",
    "convolved_path_21 = \"/data/convoled_photo_testset/21\"\n",
    "convolved_path_27 = \"/data/convoled_photo_testset/27\"\n",
    "convolved_path_33 = \"/data/convoled_photo_testset/33\""
   ]
  },
  {
   "cell_type": "code",
   "execution_count": null,
   "id": "7795a709",
   "metadata": {},
   "outputs": [],
   "source": [
    "''' Gatys model as provided by tensorflow'''\n",
    "hub_model = 'https://tfhub.dev/google/magenta/arbitrary-image-stylization-v1-256/2'\n",
    "imgs = NTransfer(photos_path, hub_model)\n",
    "styles = NTransfer(comics_path)"
   ]
  },
  {
   "cell_type": "code",
   "execution_count": null,
   "id": "b66c1435",
   "metadata": {},
   "outputs": [],
   "source": [
    "styles = [s for s in styles]\n",
    "styles.append(styles[21])"
   ]
  },
  {
   "cell_type": "code",
   "execution_count": null,
   "id": "ae9c9116",
   "metadata": {},
   "outputs": [],
   "source": [
    "names = [(i,x[1]) for i,x in enumerate(styles)]\n",
    "names"
   ]
  },
  {
   "cell_type": "code",
   "execution_count": null,
   "id": "31ecb9f1",
   "metadata": {},
   "outputs": [],
   "source": [
    "# Stylization of the photos testset saved to a folder\n",
    "imgs.stylize(stylized_photo_path, [styles[11]])"
   ]
  },
  {
   "cell_type": "markdown",
   "id": "cfd2c99d",
   "metadata": {},
   "source": [
    "### Buidling edge detected image folders"
   ]
  },
  {
   "cell_type": "code",
   "execution_count": null,
   "id": "7ffcde27",
   "metadata": {},
   "outputs": [],
   "source": [
    "# Edge detecting the photo testset, saving it to a folder with c applied blur\n",
    "t2 = Transform(1, False, _mean, _std).transformer\n",
    "photos_conv_t2 = Dataset(photos_path t2, True, c=33)\n",
    "\n",
    "path = \"/data/convoled_photo_testset/33\"\n",
    "for c in photos_conv_t2:\n",
    "    save_image(c[0], path, c[3])"
   ]
  },
  {
   "cell_type": "markdown",
   "id": "f60cd2a0",
   "metadata": {},
   "source": [
    "### Creating datasets"
   ]
  },
  {
   "cell_type": "code",
   "execution_count": 942,
   "id": "ba9d734f",
   "metadata": {},
   "outputs": [],
   "source": [
    "# mean and std when normalizing images\n",
    "_mean = (0.485, 0.456, 0.406)\n",
    "_std = (0.229, 0.224, 0.225)\n",
    "\n",
    "# Tranformer withoutout convolution, 3 channel image\n",
    "t = Transform(3, True, _mean, _std).transformer\n",
    "\n",
    "# Tranformer with convolution, 1 channel image\n",
    "\n",
    "\n",
    "# Regular dataset\n",
    "photos = Dataset(photos_path, t)\n",
    "comics = Dataset(comics_path, t)\n",
    "pcs = Dataset(pc_path, t)\n",
    "comics_sample = Dataset(comics_sample_path, t)\n",
    "\n",
    "# Gatys stylized dataset\n",
    "photos_stylized = Dataset(stylized_photo_path, t)\n",
    "\n",
    "# Adain stylized dataset\n",
    "photos_adain_0 = Dataset(adain_path_0, t)\n",
    "photos_adain_2 = Dataset(adain_path_2, t) \n",
    "photos_adain_4 = Dataset(adain_path_4, t) \n",
    "photos_adain_6 = Dataset(adain_path_6, t) \n",
    "photos_adain_8 = Dataset(adain_path_8, t) \n",
    "photos_adain_1 = Dataset(adain_path_1, t) \n",
    "\n",
    "photos_adain_noise_R = Dataset(adain_noise_path_R, t)\n",
    "photos_adain_noise_E = Dataset(adain_noise_path_E, t)\n",
    "photos_adain_no_noise_R = Dataset(adain_no_noise_path_R, t)\n",
    "photos_adain_no_noise_E = Dataset(adain_no_noise_path_E, t) \n",
    "photos_adain_sample = Dataset(adain_sample_path, t, ex=True)\n",
    "\n",
    "# Convolved dataset being the amount of gaussian blur\n",
    "photos_conv_3 = Dataset(convolved_path_3, t)\n",
    "photos_conv_9 = Dataset(convolved_path_9, t)\n",
    "photos_conv_15 = Dataset(convolved_path_15, t)\n",
    "photos_conv_21 = Dataset(convolved_path_21, t)\n",
    "photos_conv_27 = Dataset(convolved_path_27, t)\n",
    "photos_conv_33 = Dataset(convolved_path_33, t)"
   ]
  },
  {
   "cell_type": "markdown",
   "id": "e560238c",
   "metadata": {},
   "source": [
    "### Building the ANN trees"
   ]
  },
  {
   "cell_type": "code",
   "execution_count": 955,
   "id": "53c6afe7",
   "metadata": {},
   "outputs": [],
   "source": [
    "def buildTree(photos, pcs, sep):\n",
    "    # models = [('resnet18', 512, 'ResNet18'), ('vgg16', 512, 'VGG16'), \n",
    "     #     ('efficientnet_v2_s', 1280, 'EfficientNet_V2_S')]\n",
    "    # dm = [\"angular\", \"euclidean\", \"manhattan\", \"hamming\",  \"dot\"]\n",
    "\n",
    "    models = [('resnet18', 512, 'ResNet18'),('efficientnet_v2_s', 1280, 'EfficientNet_V2_S')]\n",
    "    # models = [ ('efficientnet_v2_s', 1280, 'EfficientNet_V2_S')]\n",
    "    dm = [\"manhattan\"]\n",
    "\n",
    "    for m in models:\n",
    "        w = m[2]+'_Weights.DEFAULT'\n",
    "        model = Model(m[0], [3, 256, 256], weights=w)\n",
    "        model.feature_extractor('avgpool', 'avgpool')\n",
    "\n",
    "        photos_embedded = model.embed(photos)\n",
    "        pcs_embedded = model.embed(pcs)\n",
    "\n",
    "        if m[0] != 'vgg16':\n",
    "            photos_embedded_flat = [(photo[0].squeeze(0).detach().numpy().flatten(), photo[1], photo[2], photo[3]) for photo in photos_embedded]\n",
    "            pcs_embedded_flat = [(pc[0].squeeze(0).detach().numpy().flatten(), pc[1], pc[2], pc[3]) for pc in pcs_embedded]\n",
    "        else:\n",
    "            photos_embedded_flat = [(mean_vgg16(photo[0]), photo[1], photo[2], photo[3]) for photo in photos_embedded]\n",
    "            pcs_embedded_flat = [(mean_vgg16(pc[0]), pc[1], pc[2], pc[3]) for pc in pcs_embedded]\n",
    "        \n",
    "        for d in dm:\n",
    "            if d == 'dot':\n",
    "                photos_embedded_flat = [(preprocessing.normalize([photo[0]], norm='l2').flatten(), photo[1], photo[2], photo[3]) for photo in photos_embedded_flat]\n",
    "                pcs_embedded_flat = [(preprocessing.normalize([pc[0]], norm='l2').flatten(), pc[1], pc[2], pc[3]) for pc in pcs_embedded_flat]\n",
    "            tree = Tree(m[1], d)\n",
    "            tree.buildTree([photos_embedded_flat + pcs_embedded_flat], m[0]+sep+d)"
   ]
  },
  {
   "cell_type": "code",
   "execution_count": 945,
   "id": "401a577a",
   "metadata": {},
   "outputs": [
    {
     "name": "stdout",
     "output_type": "stream",
     "text": [
      "CPU times: user 1min 28s, sys: 19.5 s, total: 1min 48s\n",
      "Wall time: 1min 33s\n"
     ]
    }
   ],
   "source": [
    "%%time\n",
    "a = '0.8'\n",
    "# g = '33'\n",
    "# Build a regular tree\n",
    "buildTree(photos, pcs, '_')\n",
    "\n",
    "# Build Gatys style transfered tree\n",
    "buildTree(photos_stylized, pcs, '_stylized_')\n",
    "\n",
    "\n",
    "# buildTree(photos_adain_sample, pcs, '_stylized_adain_sample_'+a+'_')"
   ]
  },
  {
   "cell_type": "code",
   "execution_count": 888,
   "id": "00764839",
   "metadata": {},
   "outputs": [],
   "source": [
    "buildTree(photos_adain_noise_E, pcs, '_stylized_adain_noise_E_')"
   ]
  },
  {
   "cell_type": "code",
   "execution_count": 892,
   "id": "bd689c95",
   "metadata": {},
   "outputs": [],
   "source": [
    "buildTree(photos_adain_noise_R, pcs, '_stylized_adain_noise_R_')"
   ]
  },
  {
   "cell_type": "code",
   "execution_count": 890,
   "id": "09308e3c",
   "metadata": {},
   "outputs": [],
   "source": [
    "buildTree(photos_adain_no_noise_E, pcs, '_stylized_adain_no_noise_E_')"
   ]
  },
  {
   "cell_type": "code",
   "execution_count": 893,
   "id": "48284b96",
   "metadata": {},
   "outputs": [],
   "source": [
    "buildTree(photos_adain_no_noise_R, pcs, '_stylized_adain_no_noise_R_')"
   ]
  },
  {
   "cell_type": "code",
   "execution_count": null,
   "id": "c3c4392f",
   "metadata": {},
   "outputs": [],
   "source": [
    "buildTree(photos_adain_sample, pcs, '_stylized_adain_sample_')"
   ]
  },
  {
   "cell_type": "code",
   "execution_count": 956,
   "id": "34abdfa9",
   "metadata": {},
   "outputs": [],
   "source": [
    "# Build Adain trees\n",
    "buildTree(photos_adain_0, pcs, '_stylized_adain_0.0_')\n",
    "buildTree(photos_adain_2, pcs, '_stylized_adain_0.2_')\n",
    "buildTree(photos_adain_4, pcs, '_stylized_adain_0.4_')\n",
    "buildTree(photos_adain_6, pcs, '_stylized_adain_0.6_')\n",
    "buildTree(photos_adain_8, pcs, '_stylized_adain_0.8_')\n",
    "buildTree(photos_adain_1, pcs, '_stylized_adain_1.0_')"
   ]
  },
  {
   "cell_type": "code",
   "execution_count": null,
   "id": "1a86dac8",
   "metadata": {},
   "outputs": [],
   "source": [
    "%%time\n",
    "# Build edge detected tree\n",
    "buildTree(photos_conv_3, pcs, '_conv_3_')\n",
    "buildTree(photos_conv_9, pcs, '_conv_9_')\n",
    "buildTree(photos_conv_15, pcs, '_conv_15_')\n",
    "buildTree(photos_conv_21, pcs, '_conv_21_')\n",
    "buildTree(photos_conv_27, pcs, '_conv_27_')\n",
    "buildTree(photos_conv_33, pcs, '_conv_33_')"
   ]
  },
  {
   "cell_type": "markdown",
   "id": "611038b0",
   "metadata": {},
   "source": [
    "# Searching the trees"
   ]
  },
  {
   "cell_type": "markdown",
   "id": "eb20d64f",
   "metadata": {},
   "source": [
    "## Matches"
   ]
  },
  {
   "cell_type": "code",
   "execution_count": null,
   "id": "38788b9f",
   "metadata": {},
   "outputs": [],
   "source": [
    "matches = pd.read_csv(\"/data/matches.csv\", sep=';', index_col='comic')\n",
    "matches['correct'] = matches.values.tolist()\n",
    "matches = matches.groupby('comic')['correct'].apply(sum)\n",
    "matches = matches.to_frame()\n",
    "for i in matches.index:\n",
    "    matches.loc[i, 'correct'] = [x for x in matches.loc[i, 'correct'] if str(x) != 'nan']"
   ]
  },
  {
   "cell_type": "code",
   "execution_count": 850,
   "id": "a9726ab6",
   "metadata": {},
   "outputs": [
    {
     "data": {
      "text/html": [
       "<div>\n",
       "<style scoped>\n",
       "    .dataframe tbody tr th:only-of-type {\n",
       "        vertical-align: middle;\n",
       "    }\n",
       "\n",
       "    .dataframe tbody tr th {\n",
       "        vertical-align: top;\n",
       "    }\n",
       "\n",
       "    .dataframe thead th {\n",
       "        text-align: right;\n",
       "    }\n",
       "</style>\n",
       "<table border=\"1\" class=\"dataframe\">\n",
       "  <thead>\n",
       "    <tr style=\"text-align: right;\">\n",
       "      <th></th>\n",
       "      <th>correct</th>\n",
       "    </tr>\n",
       "    <tr>\n",
       "      <th>comic</th>\n",
       "      <th></th>\n",
       "    </tr>\n",
       "  </thead>\n",
       "  <tbody>\n",
       "    <tr>\n",
       "      <th>comic_1.jpg</th>\n",
       "      <td>[photo_1.jpg]</td>\n",
       "    </tr>\n",
       "    <tr>\n",
       "      <th>comic_10.jpg</th>\n",
       "      <td>[photo_11.jpg]</td>\n",
       "    </tr>\n",
       "    <tr>\n",
       "      <th>comic_11.jpg</th>\n",
       "      <td>[photo_12.jpg]</td>\n",
       "    </tr>\n",
       "    <tr>\n",
       "      <th>comic_12.jpg</th>\n",
       "      <td>[photo_13.jpg]</td>\n",
       "    </tr>\n",
       "    <tr>\n",
       "      <th>comic_13.jpg</th>\n",
       "      <td>[pc_15.jpg]</td>\n",
       "    </tr>\n",
       "    <tr>\n",
       "      <th>comic_14.jpg</th>\n",
       "      <td>[photo_14.jpg]</td>\n",
       "    </tr>\n",
       "    <tr>\n",
       "      <th>comic_15.jpg</th>\n",
       "      <td>[photo_14.jpg]</td>\n",
       "    </tr>\n",
       "    <tr>\n",
       "      <th>comic_16.jpg</th>\n",
       "      <td>[pc_12.jpg]</td>\n",
       "    </tr>\n",
       "    <tr>\n",
       "      <th>comic_17.jpg</th>\n",
       "      <td>[pc_13.jpg]</td>\n",
       "    </tr>\n",
       "    <tr>\n",
       "      <th>comic_18.jpg</th>\n",
       "      <td>[pc_14.jpg]</td>\n",
       "    </tr>\n",
       "    <tr>\n",
       "      <th>comic_19.jpg</th>\n",
       "      <td>[pc_10.jpg]</td>\n",
       "    </tr>\n",
       "    <tr>\n",
       "      <th>comic_2.jpg</th>\n",
       "      <td>[photo_2.jpg]</td>\n",
       "    </tr>\n",
       "    <tr>\n",
       "      <th>comic_20.jpg</th>\n",
       "      <td>[photo_15.jpg, pc_11.jpg]</td>\n",
       "    </tr>\n",
       "    <tr>\n",
       "      <th>comic_21.jpg</th>\n",
       "      <td>[pc_9.jpg]</td>\n",
       "    </tr>\n",
       "    <tr>\n",
       "      <th>comic_22.jpg</th>\n",
       "      <td>[photo_16.jpg, photo_17.jpg]</td>\n",
       "    </tr>\n",
       "    <tr>\n",
       "      <th>comic_23.jpg</th>\n",
       "      <td>[photo_18.jpg]</td>\n",
       "    </tr>\n",
       "    <tr>\n",
       "      <th>comic_24.jpg</th>\n",
       "      <td>[pc_8.jpg]</td>\n",
       "    </tr>\n",
       "    <tr>\n",
       "      <th>comic_25.jpg</th>\n",
       "      <td>[photo_19.jpg, pc_7.jpg]</td>\n",
       "    </tr>\n",
       "    <tr>\n",
       "      <th>comic_26.jpg</th>\n",
       "      <td>[pc_6.jpg]</td>\n",
       "    </tr>\n",
       "    <tr>\n",
       "      <th>comic_27.jpg</th>\n",
       "      <td>[photo_20.jpg, photo_21.jpg]</td>\n",
       "    </tr>\n",
       "    <tr>\n",
       "      <th>comic_28.jpg</th>\n",
       "      <td>[photo_22.jpg, photo_23.jpg, photo_24.jpg]</td>\n",
       "    </tr>\n",
       "    <tr>\n",
       "      <th>comic_29.jpg</th>\n",
       "      <td>[photo_22.jpg, photo_23.jpg, photo_24.jpg]</td>\n",
       "    </tr>\n",
       "    <tr>\n",
       "      <th>comic_3.jpg</th>\n",
       "      <td>[photo_3.jpg]</td>\n",
       "    </tr>\n",
       "    <tr>\n",
       "      <th>comic_30.jpg</th>\n",
       "      <td>[photo_25.jpg, photo_26.jpg]</td>\n",
       "    </tr>\n",
       "    <tr>\n",
       "      <th>comic_31.jpg</th>\n",
       "      <td>[photo_27.jpg]</td>\n",
       "    </tr>\n",
       "    <tr>\n",
       "      <th>comic_32.jpg</th>\n",
       "      <td>[photo_28.jpg]</td>\n",
       "    </tr>\n",
       "    <tr>\n",
       "      <th>comic_33.jpg</th>\n",
       "      <td>[photo_29.jpg]</td>\n",
       "    </tr>\n",
       "    <tr>\n",
       "      <th>comic_34.jpg</th>\n",
       "      <td>[photo_31.jpg]</td>\n",
       "    </tr>\n",
       "    <tr>\n",
       "      <th>comic_35.jpg</th>\n",
       "      <td>[photo_32.jpg]</td>\n",
       "    </tr>\n",
       "    <tr>\n",
       "      <th>comic_36.jpg</th>\n",
       "      <td>[photo_33.jpg]</td>\n",
       "    </tr>\n",
       "    <tr>\n",
       "      <th>comic_4.jpg</th>\n",
       "      <td>[photo_4.jpg]</td>\n",
       "    </tr>\n",
       "    <tr>\n",
       "      <th>comic_5.jpg</th>\n",
       "      <td>[photo_5.jpg]</td>\n",
       "    </tr>\n",
       "    <tr>\n",
       "      <th>comic_6.jpg</th>\n",
       "      <td>[photo_6.jpg, photo_7.jpg]</td>\n",
       "    </tr>\n",
       "    <tr>\n",
       "      <th>comic_7.jpg</th>\n",
       "      <td>[photo_8.jpg]</td>\n",
       "    </tr>\n",
       "    <tr>\n",
       "      <th>comic_8.jpg</th>\n",
       "      <td>[photo_9.jpg]</td>\n",
       "    </tr>\n",
       "    <tr>\n",
       "      <th>comic_9.jpg</th>\n",
       "      <td>[photo_10.jpg]</td>\n",
       "    </tr>\n",
       "  </tbody>\n",
       "</table>\n",
       "</div>"
      ],
      "text/plain": [
       "                                                 correct\n",
       "comic                                                   \n",
       "comic_1.jpg                                [photo_1.jpg]\n",
       "comic_10.jpg                              [photo_11.jpg]\n",
       "comic_11.jpg                              [photo_12.jpg]\n",
       "comic_12.jpg                              [photo_13.jpg]\n",
       "comic_13.jpg                                 [pc_15.jpg]\n",
       "comic_14.jpg                              [photo_14.jpg]\n",
       "comic_15.jpg                              [photo_14.jpg]\n",
       "comic_16.jpg                                 [pc_12.jpg]\n",
       "comic_17.jpg                                 [pc_13.jpg]\n",
       "comic_18.jpg                                 [pc_14.jpg]\n",
       "comic_19.jpg                                 [pc_10.jpg]\n",
       "comic_2.jpg                                [photo_2.jpg]\n",
       "comic_20.jpg                   [photo_15.jpg, pc_11.jpg]\n",
       "comic_21.jpg                                  [pc_9.jpg]\n",
       "comic_22.jpg                [photo_16.jpg, photo_17.jpg]\n",
       "comic_23.jpg                              [photo_18.jpg]\n",
       "comic_24.jpg                                  [pc_8.jpg]\n",
       "comic_25.jpg                    [photo_19.jpg, pc_7.jpg]\n",
       "comic_26.jpg                                  [pc_6.jpg]\n",
       "comic_27.jpg                [photo_20.jpg, photo_21.jpg]\n",
       "comic_28.jpg  [photo_22.jpg, photo_23.jpg, photo_24.jpg]\n",
       "comic_29.jpg  [photo_22.jpg, photo_23.jpg, photo_24.jpg]\n",
       "comic_3.jpg                                [photo_3.jpg]\n",
       "comic_30.jpg                [photo_25.jpg, photo_26.jpg]\n",
       "comic_31.jpg                              [photo_27.jpg]\n",
       "comic_32.jpg                              [photo_28.jpg]\n",
       "comic_33.jpg                              [photo_29.jpg]\n",
       "comic_34.jpg                              [photo_31.jpg]\n",
       "comic_35.jpg                              [photo_32.jpg]\n",
       "comic_36.jpg                              [photo_33.jpg]\n",
       "comic_4.jpg                                [photo_4.jpg]\n",
       "comic_5.jpg                                [photo_5.jpg]\n",
       "comic_6.jpg                   [photo_6.jpg, photo_7.jpg]\n",
       "comic_7.jpg                                [photo_8.jpg]\n",
       "comic_8.jpg                                [photo_9.jpg]\n",
       "comic_9.jpg                               [photo_10.jpg]"
      ]
     },
     "execution_count": 850,
     "metadata": {},
     "output_type": "execute_result"
    }
   ],
   "source": [
    "matches"
   ]
  },
  {
   "cell_type": "markdown",
   "id": "7ed5acbe",
   "metadata": {},
   "source": [
    "## Evaluation"
   ]
  },
  {
   "cell_type": "code",
   "execution_count": null,
   "id": "4519274d",
   "metadata": {},
   "outputs": [],
   "source": [
    "trees_path = \"/data/trees/\"\n",
    "indexes_path = \"/data/indexes/\""
   ]
  },
  {
   "cell_type": "code",
   "execution_count": null,
   "id": "30acc86a",
   "metadata": {},
   "outputs": [],
   "source": [
    "def create_results(models, metrics, comics, n, tree_path, index_path, sep, expert = False):\n",
    "    results = {}\n",
    "    for mod in models:\n",
    "        w = mod[2]+'_Weights.DEFAULT'\n",
    "        model = Model(mod[0], [3, 256, 256], weights=w)\n",
    "        model.feature_extractor('avgpool', 'avgpool')\n",
    "        results[mod[0]] = {}\n",
    "        if mod[0] != 'vgg16':\n",
    "            comics_embedded = model.embed(comics)\n",
    "            comics_embedded_flat = [(comic[0].squeeze(0).detach().numpy().flatten(), \n",
    "                                     comic[1], comic[2], comic[3]) for comic in comics_embedded]\n",
    "        else:\n",
    "            comics_embedded = model.embed(comics)\n",
    "            comics_embedded_flat = [(mean_vgg16(comic[0]), \n",
    "                                     comic[1], comic[2], comic[3]) for comic in comics_embedded]\n",
    "        for m in metrics:\n",
    "            results[mod[0]][m] = {}\n",
    "            mod_tree = Tree(mod[1], m)\n",
    "            mod_tree.tree.load(tree_path+mod[0]+sep+m+'_tree.ann')\n",
    "\n",
    "            with open(index_path+mod[0]+sep+m+'_idx.pkl', \"rb\") as o:\n",
    "                mod_tree.idx_image = pickle.load(o)\n",
    "\n",
    "            for comic in comics_embedded_flat:\n",
    "                img = mod_tree.search(comic[0], n, 'image', False)\n",
    "                res = [v[2] for v in img]\n",
    "                \n",
    "                if not expert:\n",
    "                    results[mod[0]][m][comic[3]] = res\n",
    "                else:\n",
    "                    results[mod[0]][m][comic[3]] = (img, res, \n",
    "                                                    torchvision.transforms.Resize((256, 256))(Image.open(comic[1])))\n",
    "                    \n",
    "            \n",
    "    return results\n",
    "\n",
    "def AP(Q, G):\n",
    "    GTP = len(Q)\n",
    "    predicted = 0\n",
    "    positive = 0\n",
    "    ap = 0\n",
    "\n",
    "    for g in G:\n",
    "        predicted += 1\n",
    "        if g in Q:\n",
    "            positive += 1\n",
    "            ap += positive / predicted\n",
    "        \n",
    "        if positive == GTP:\n",
    "            break\n",
    "\n",
    "    return (1/GTP) * ap\n",
    "\n",
    "def calculate_model_accuracy(results, matches):\n",
    "    model_perf, model_counts = {}, {}\n",
    "    model_perf['accuracy'], model_perf['recall'], model_perf['map'] = {}, {}, {}\n",
    "    for model in results.keys():\n",
    "        model_perf['accuracy'][model], model_perf['recall'][model], model_counts[model], model_perf['map'][model] = {}, {}, {}, {}\n",
    "        for metric in results[model].keys():\n",
    "            correct_count, pc, ph, ap = 0,0,0,0\n",
    "            for v in results[model][metric]:\n",
    "\n",
    "                ap += AP(matches.loc[v, 'correct'], results[model][metric][v])\n",
    "                \n",
    "                correct = [i for i in results[model][metric][v] if i in matches.loc[v, 'correct']]\n",
    "                if correct != []:\n",
    "                    correct_count += 1\n",
    "                \n",
    "                pc += sum((itm.count(\"pc\") for itm in correct))\n",
    "                ph += sum((itm.count(\"photo\") for itm in correct))\n",
    "                \n",
    "            model_perf['accuracy'][model][metric] = correct_count/len(results[model][metric].keys())\n",
    "            model_perf['recall'][model][metric] = {'pc': pc/10, 'photo' : ph/36}\n",
    "            model_perf['map'][model][metric] = ap/len(results[model][metric].keys())\n",
    "\n",
    "    return model_perf"
   ]
  },
  {
   "cell_type": "code",
   "execution_count": null,
   "id": "37c5b47f",
   "metadata": {},
   "outputs": [],
   "source": []
  },
  {
   "cell_type": "code",
   "execution_count": 946,
   "id": "9f3fc84a",
   "metadata": {},
   "outputs": [],
   "source": [
    "models = [('resnet18', 512, 'ResNet18'), ('vgg16', 512, 'VGG16'), \n",
    "          ('efficientnet_v2_s', 1280, 'EfficientNet_V2_S')]\n",
    "metrics = [\"angular\", \"euclidean\", \"manhattan\", \"hamming\",  \"dot\"]\n",
    "\n",
    "n = 6\n",
    "results = create_results(models, metrics, comics, n, trees_path, indexes_path, sep='_')"
   ]
  },
  {
   "cell_type": "code",
   "execution_count": 947,
   "id": "f739c5ce",
   "metadata": {},
   "outputs": [],
   "source": [
    "model_res = calculate_model_accuracy(results, matches)"
   ]
  },
  {
   "cell_type": "code",
   "execution_count": 948,
   "id": "0fc99483",
   "metadata": {},
   "outputs": [
    {
     "data": {
      "text/plain": [
       "{'accuracy': {'resnet18': {'angular': 0.3055555555555556,\n",
       "   'euclidean': 0.3333333333333333,\n",
       "   'manhattan': 0.4166666666666667,\n",
       "   'hamming': 0.3055555555555556,\n",
       "   'dot': 0.3055555555555556},\n",
       "  'vgg16': {'angular': 0.2777777777777778,\n",
       "   'euclidean': 0.3333333333333333,\n",
       "   'manhattan': 0.3055555555555556,\n",
       "   'hamming': 0.3055555555555556,\n",
       "   'dot': 0.2777777777777778},\n",
       "  'efficientnet_v2_s': {'angular': 0.2222222222222222,\n",
       "   'euclidean': 0.2777777777777778,\n",
       "   'manhattan': 0.2222222222222222,\n",
       "   'hamming': 0.19444444444444445,\n",
       "   'dot': 0.2222222222222222}},\n",
       " 'recall': {'resnet18': {'angular': {'pc': 0.5, 'photo': 0.16666666666666666},\n",
       "   'euclidean': {'pc': 0.5, 'photo': 0.19444444444444445},\n",
       "   'manhattan': {'pc': 0.5, 'photo': 0.3055555555555556},\n",
       "   'hamming': {'pc': 0.5, 'photo': 0.16666666666666666},\n",
       "   'dot': {'pc': 0.5, 'photo': 0.16666666666666666}},\n",
       "  'vgg16': {'angular': {'pc': 0.5, 'photo': 0.1388888888888889},\n",
       "   'euclidean': {'pc': 0.3, 'photo': 0.25},\n",
       "   'manhattan': {'pc': 0.3, 'photo': 0.2222222222222222},\n",
       "   'hamming': {'pc': 0.4, 'photo': 0.19444444444444445},\n",
       "   'dot': {'pc': 0.5, 'photo': 0.1388888888888889}},\n",
       "  'efficientnet_v2_s': {'angular': {'pc': 0.6, 'photo': 0.1111111111111111},\n",
       "   'euclidean': {'pc': 0.5, 'photo': 0.19444444444444445},\n",
       "   'manhattan': {'pc': 0.4, 'photo': 0.16666666666666666},\n",
       "   'hamming': {'pc': 0.3, 'photo': 0.16666666666666666},\n",
       "   'dot': {'pc': 0.6, 'photo': 0.1111111111111111}}},\n",
       " 'map': {'resnet18': {'angular': 0.1615740740740741,\n",
       "   'euclidean': 0.1478395061728395,\n",
       "   'manhattan': 0.16496913580246914,\n",
       "   'hamming': 0.13171296296296298,\n",
       "   'dot': 0.1615740740740741},\n",
       "  'vgg16': {'angular': 0.11620370370370368,\n",
       "   'euclidean': 0.0787037037037037,\n",
       "   'manhattan': 0.08009259259259259,\n",
       "   'hamming': 0.076929012345679,\n",
       "   'dot': 0.11620370370370368},\n",
       "  'efficientnet_v2_s': {'angular': 0.10601851851851853,\n",
       "   'euclidean': 0.12361111111111112,\n",
       "   'manhattan': 0.10879629629629628,\n",
       "   'hamming': 0.07962962962962963,\n",
       "   'dot': 0.10601851851851853}}}"
      ]
     },
     "execution_count": 948,
     "metadata": {},
     "output_type": "execute_result"
    }
   ],
   "source": [
    "model_res"
   ]
  },
  {
   "cell_type": "code",
   "execution_count": null,
   "id": "5c60ea99",
   "metadata": {},
   "outputs": [],
   "source": [
    "models = [('resnet18', 512, 'ResNet18'), \n",
    "          ('efficientnet_v2_s', 1280, 'EfficientNet_V2_S')]\n",
    "metrics = [\"manhattan\"]\n",
    "\n",
    "n=6\n",
    "gatys_results = create_results(models, metrics, comics, n, trees_path, indexes_path, sep='_stylized_')"
   ]
  },
  {
   "cell_type": "code",
   "execution_count": null,
   "id": "4c478fd9",
   "metadata": {},
   "outputs": [],
   "source": [
    "model_gatys_res = calculate_model_accuracy(gatys_results, matches)"
   ]
  },
  {
   "cell_type": "code",
   "execution_count": null,
   "id": "554c86b3",
   "metadata": {},
   "outputs": [],
   "source": [
    "model_gatys_res"
   ]
  },
  {
   "cell_type": "markdown",
   "id": "8d8845e7",
   "metadata": {},
   "source": [
    "### Edge detected gaussian blur evaluation"
   ]
  },
  {
   "cell_type": "code",
   "execution_count": null,
   "id": "1f9836a1",
   "metadata": {},
   "outputs": [],
   "source": [
    "models = [('resnet18', 512, 'ResNet18'), \n",
    "          ('efficientnet_v2_s', 1280, 'EfficientNet_V2_S')]\n",
    "metrics = [\"manhattan\"]\n",
    "\n",
    "n=6\n",
    "\n",
    "conv_results3 = create_results(models, metrics, comics, n, trees_path, indexes_path, sep='_conv_3_')\n",
    "conv_results9 = create_results(models, metrics, comics, n, trees_path, indexes_path, sep='_conv_9_')\n",
    "conv_results15 = create_results(models, metrics, comics, n, trees_path, indexes_path, sep='_conv_15_')\n",
    "conv_results21 = create_results(models, metrics, comics, n, trees_path, indexes_path, sep='_conv_21_')\n",
    "conv_results27 = create_results(models, metrics, comics, n, trees_path, indexes_path, sep='_conv_27_')\n",
    "conv_results33 = create_results(models, metrics, comics, n, trees_path, indexes_path, sep='_conv_33_')"
   ]
  },
  {
   "cell_type": "code",
   "execution_count": null,
   "id": "bc059213",
   "metadata": {},
   "outputs": [],
   "source": [
    "model_res_conv3 = calculate_model_accuracy(conv_results3, matches)\n",
    "model_res_conv9 = calculate_model_accuracy(conv_results9, matches)\n",
    "model_res_conv15 = calculate_model_accuracy(conv_results15, matches)\n",
    "model_res_conv21 = calculate_model_accuracy(conv_results21, matches)\n",
    "model_res_conv27 = calculate_model_accuracy(conv_results27, matches)\n",
    "model_res_conv33 = calculate_model_accuracy(conv_results33, matches)"
   ]
  },
  {
   "cell_type": "code",
   "execution_count": null,
   "id": "bd8cf67d",
   "metadata": {},
   "outputs": [],
   "source": [
    "model_res_conv33"
   ]
  },
  {
   "cell_type": "markdown",
   "id": "20dcb97b",
   "metadata": {},
   "source": [
    "### Stylization level evaluation"
   ]
  },
  {
   "cell_type": "code",
   "execution_count": 957,
   "id": "48e72f8a",
   "metadata": {},
   "outputs": [],
   "source": [
    "models = [('resnet18', 512, 'ResNet18'), \n",
    "          ('efficientnet_v2_s', 1280, 'EfficientNet_V2_S')]\n",
    "metrics = [\"manhattan\"]\n",
    "\n",
    "n=6\n",
    "\n",
    "adain_res0 = create_results(models, metrics, comics, n, trees_path, indexes_path, sep='_stylized_adain_0.0_')\n",
    "adain_res2 = create_results(models, metrics, comics, n, trees_path, indexes_path, sep='_stylized_adain_0.2_')\n",
    "adain_res4 = create_results(models, metrics, comics, n, trees_path, indexes_path, sep='_stylized_adain_0.4_')\n",
    "adain_res6 = create_results(models, metrics, comics, n, trees_path, indexes_path, sep='_stylized_adain_0.6_')\n",
    "adain_res8 = create_results(models, metrics, comics, n, trees_path, indexes_path, sep='_stylized_adain_0.8_')\n",
    "adain_res1 = create_results(models, metrics, comics, n, trees_path, indexes_path, sep='_stylized_adain_1.0_')"
   ]
  },
  {
   "cell_type": "code",
   "execution_count": 958,
   "id": "fdc61588",
   "metadata": {},
   "outputs": [],
   "source": [
    "model_res_adain0 = calculate_model_accuracy(adain_res0, matches)\n",
    "model_res_adain2 = calculate_model_accuracy(adain_res2, matches)\n",
    "model_res_adain4 = calculate_model_accuracy(adain_res4, matches)\n",
    "model_res_adain6 = calculate_model_accuracy(adain_res6, matches)\n",
    "model_res_adain8 = calculate_model_accuracy(adain_res8, matches)\n",
    "model_res_adain1 = calculate_model_accuracy(adain_res1, matches)"
   ]
  },
  {
   "cell_type": "code",
   "execution_count": 959,
   "id": "d15cefb1",
   "metadata": {},
   "outputs": [
    {
     "data": {
      "text/plain": [
       "{'accuracy': {'resnet18': {'manhattan': 0.4166666666666667},\n",
       "  'efficientnet_v2_s': {'manhattan': 0.2222222222222222}},\n",
       " 'recall': {'resnet18': {'manhattan': {'pc': 0.5,\n",
       "    'photo': 0.2777777777777778}},\n",
       "  'efficientnet_v2_s': {'manhattan': {'pc': 0.4,\n",
       "    'photo': 0.16666666666666666}}},\n",
       " 'map': {'resnet18': {'manhattan': 0.16219135802469134},\n",
       "  'efficientnet_v2_s': {'manhattan': 0.1111111111111111}}}"
      ]
     },
     "execution_count": 959,
     "metadata": {},
     "output_type": "execute_result"
    }
   ],
   "source": [
    "model_res_adain0"
   ]
  },
  {
   "cell_type": "code",
   "execution_count": 960,
   "id": "a982a817",
   "metadata": {},
   "outputs": [
    {
     "data": {
      "text/plain": [
       "{'accuracy': {'resnet18': {'manhattan': 0.3333333333333333},\n",
       "  'efficientnet_v2_s': {'manhattan': 0.25}},\n",
       " 'recall': {'resnet18': {'manhattan': {'pc': 0.5,\n",
       "    'photo': 0.19444444444444445}},\n",
       "  'efficientnet_v2_s': {'manhattan': {'pc': 0.4,\n",
       "    'photo': 0.19444444444444445}}},\n",
       " 'map': {'resnet18': {'manhattan': 0.15300925925925926},\n",
       "  'efficientnet_v2_s': {'manhattan': 0.11203703703703703}}}"
      ]
     },
     "execution_count": 960,
     "metadata": {},
     "output_type": "execute_result"
    }
   ],
   "source": [
    "model_res_adain2"
   ]
  },
  {
   "cell_type": "code",
   "execution_count": 961,
   "id": "477cef9b",
   "metadata": {},
   "outputs": [
    {
     "data": {
      "text/plain": [
       "{'accuracy': {'resnet18': {'manhattan': 0.3055555555555556},\n",
       "  'efficientnet_v2_s': {'manhattan': 0.2222222222222222}},\n",
       " 'recall': {'resnet18': {'manhattan': {'pc': 0.5,\n",
       "    'photo': 0.16666666666666666}},\n",
       "  'efficientnet_v2_s': {'manhattan': {'pc': 0.4,\n",
       "    'photo': 0.1388888888888889}}},\n",
       " 'map': {'resnet18': {'manhattan': 0.125},\n",
       "  'efficientnet_v2_s': {'manhattan': 0.09953703703703703}}}"
      ]
     },
     "execution_count": 961,
     "metadata": {},
     "output_type": "execute_result"
    }
   ],
   "source": [
    "model_res_adain4"
   ]
  },
  {
   "cell_type": "code",
   "execution_count": 962,
   "id": "811854f8",
   "metadata": {},
   "outputs": [
    {
     "data": {
      "text/plain": [
       "{'accuracy': {'resnet18': {'manhattan': 0.3333333333333333},\n",
       "  'efficientnet_v2_s': {'manhattan': 0.2222222222222222}},\n",
       " 'recall': {'resnet18': {'manhattan': {'pc': 0.5,\n",
       "    'photo': 0.19444444444444445}},\n",
       "  'efficientnet_v2_s': {'manhattan': {'pc': 0.4,\n",
       "    'photo': 0.1388888888888889}}},\n",
       " 'map': {'resnet18': {'manhattan': 0.12654320987654322},\n",
       "  'efficientnet_v2_s': {'manhattan': 0.09722222222222222}}}"
      ]
     },
     "execution_count": 962,
     "metadata": {},
     "output_type": "execute_result"
    }
   ],
   "source": [
    "model_res_adain6"
   ]
  },
  {
   "cell_type": "code",
   "execution_count": 963,
   "id": "ec04e9c8",
   "metadata": {},
   "outputs": [
    {
     "data": {
      "text/plain": [
       "{'accuracy': {'resnet18': {'manhattan': 0.2777777777777778},\n",
       "  'efficientnet_v2_s': {'manhattan': 0.19444444444444445}},\n",
       " 'recall': {'resnet18': {'manhattan': {'pc': 0.5,\n",
       "    'photo': 0.1388888888888889}},\n",
       "  'efficientnet_v2_s': {'manhattan': {'pc': 0.4,\n",
       "    'photo': 0.08333333333333333}}},\n",
       " 'map': {'resnet18': {'manhattan': 0.11249999999999999},\n",
       "  'efficientnet_v2_s': {'manhattan': 0.0775462962962963}}}"
      ]
     },
     "execution_count": 963,
     "metadata": {},
     "output_type": "execute_result"
    }
   ],
   "source": [
    "model_res_adain8"
   ]
  },
  {
   "cell_type": "code",
   "execution_count": 964,
   "id": "27dc5504",
   "metadata": {},
   "outputs": [
    {
     "data": {
      "text/plain": [
       "{'accuracy': {'resnet18': {'manhattan': 0.3888888888888889},\n",
       "  'efficientnet_v2_s': {'manhattan': 0.16666666666666666}},\n",
       " 'recall': {'resnet18': {'manhattan': {'pc': 0.5, 'photo': 0.25}},\n",
       "  'efficientnet_v2_s': {'manhattan': {'pc': 0.4,\n",
       "    'photo': 0.05555555555555555}}},\n",
       " 'map': {'resnet18': {'manhattan': 0.14050925925925928},\n",
       "  'efficientnet_v2_s': {'manhattan': 0.06712962962962962}}}"
      ]
     },
     "execution_count": 964,
     "metadata": {},
     "output_type": "execute_result"
    }
   ],
   "source": [
    "model_res_adain1"
   ]
  },
  {
   "cell_type": "markdown",
   "id": "6130f23d",
   "metadata": {},
   "source": [
    "### Scale evaluation"
   ]
  },
  {
   "cell_type": "code",
   "execution_count": 929,
   "id": "8454110d",
   "metadata": {},
   "outputs": [],
   "source": [
    "n1 = 6\n",
    "n2 = 9\n",
    "n3 = 12\n",
    "n4 = 15\n",
    "n5 = 18\n",
    "\n",
    "# a = 'E'\n",
    "# models = [('efficientnet_v2_s', 1280, 'EfficientNet_V2_S')]\n",
    "\n",
    "a = 'R'\n",
    "models = [('resnet18', 512, 'ResNet18')]\n",
    "\n",
    "metrics = [\"angular\"]"
   ]
  },
  {
   "cell_type": "code",
   "execution_count": 930,
   "id": "660894d7",
   "metadata": {},
   "outputs": [],
   "source": [
    "'''Without noise'''\n",
    "adain_scale_res1 = create_results(models, metrics, comics, n1, trees_path, indexes_path, sep='_stylized_adain_no_noise_'+a+'_')\n",
    "adain_scale_res2 = create_results(models, metrics, comics, n2, trees_path, indexes_path, sep='_stylized_adain_no_noise_'+a+'_')\n",
    "adain_scale_res3 = create_results(models, metrics, comics, n3, trees_path, indexes_path, sep='_stylized_adain_no_noise_'+a+'_')\n",
    "adain_scale_res4 = create_results(models, metrics, comics, n4, trees_path, indexes_path, sep='_stylized_adain_no_noise_'+a+'_')\n",
    "adain_scale_res5 = create_results(models, metrics, comics, n5, trees_path, indexes_path, sep='_stylized_adain_no_noise_'+a+'_')"
   ]
  },
  {
   "cell_type": "code",
   "execution_count": 931,
   "id": "007db715",
   "metadata": {},
   "outputs": [],
   "source": [
    "model_scale_res_adain1 = calculate_model_accuracy(adain_scale_res1, matches)\n",
    "model_scale_res_adain2 = calculate_model_accuracy(adain_scale_res2, matches)\n",
    "model_scale_res_adain3 = calculate_model_accuracy(adain_scale_res3, matches)\n",
    "model_scale_res_adain4 = calculate_model_accuracy(adain_scale_res4, matches)\n",
    "model_scale_res_adain5 = calculate_model_accuracy(adain_scale_res5, matches)"
   ]
  },
  {
   "cell_type": "code",
   "execution_count": 932,
   "id": "2766215c",
   "metadata": {},
   "outputs": [
    {
     "data": {
      "text/plain": [
       "{'accuracy': {'resnet18': {'angular': 0.4722222222222222}},\n",
       " 'recall': {'resnet18': {'angular': {'pc': 0.4, 'photo': 0.3888888888888889}}},\n",
       " 'map': {'resnet18': {'angular': 0.1986111111111111}}}"
      ]
     },
     "execution_count": 932,
     "metadata": {},
     "output_type": "execute_result"
    }
   ],
   "source": [
    "model_scale_res_adain1"
   ]
  },
  {
   "cell_type": "code",
   "execution_count": 933,
   "id": "a49275b5",
   "metadata": {},
   "outputs": [
    {
     "data": {
      "text/plain": [
       "{'accuracy': {'resnet18': {'angular': 0.5}},\n",
       " 'recall': {'resnet18': {'angular': {'pc': 0.4, 'photo': 0.4166666666666667}}},\n",
       " 'map': {'resnet18': {'angular': 0.2020833333333333}}}"
      ]
     },
     "execution_count": 933,
     "metadata": {},
     "output_type": "execute_result"
    }
   ],
   "source": [
    "model_scale_res_adain2"
   ]
  },
  {
   "cell_type": "code",
   "execution_count": 934,
   "id": "368458b1",
   "metadata": {},
   "outputs": [
    {
     "data": {
      "text/plain": [
       "{'accuracy': {'resnet18': {'angular': 0.6388888888888888}},\n",
       " 'recall': {'resnet18': {'angular': {'pc': 0.5, 'photo': 0.5277777777777778}}},\n",
       " 'map': {'resnet18': {'angular': 0.21193181818181817}}}"
      ]
     },
     "execution_count": 934,
     "metadata": {},
     "output_type": "execute_result"
    }
   ],
   "source": [
    "model_scale_res_adain3"
   ]
  },
  {
   "cell_type": "code",
   "execution_count": 935,
   "id": "9fae2b81",
   "metadata": {},
   "outputs": [
    {
     "data": {
      "text/plain": [
       "{'accuracy': {'resnet18': {'angular': 0.7222222222222222}},\n",
       " 'recall': {'resnet18': {'angular': {'pc': 0.5, 'photo': 0.6388888888888888}}},\n",
       " 'map': {'resnet18': {'angular': 0.2171719484219484}}}"
      ]
     },
     "execution_count": 935,
     "metadata": {},
     "output_type": "execute_result"
    }
   ],
   "source": [
    "model_scale_res_adain4"
   ]
  },
  {
   "cell_type": "code",
   "execution_count": 936,
   "id": "c62c1ba0",
   "metadata": {},
   "outputs": [
    {
     "data": {
      "text/plain": [
       "{'accuracy': {'resnet18': {'angular': 0.75}},\n",
       " 'recall': {'resnet18': {'angular': {'pc': 0.5, 'photo': 0.6666666666666666}}},\n",
       " 'map': {'resnet18': {'angular': 0.21871515829849159}}}"
      ]
     },
     "execution_count": 936,
     "metadata": {},
     "output_type": "execute_result"
    }
   ],
   "source": [
    "model_scale_res_adain5"
   ]
  },
  {
   "cell_type": "code",
   "execution_count": 920,
   "id": "f2391f1c",
   "metadata": {},
   "outputs": [],
   "source": [
    "n1 = 6\n",
    "n2 = 12\n",
    "n3 = 24\n",
    "n4 = 48\n",
    "n5 = 96\n",
    "\n",
    "# a = 'E'\n",
    "# models = [('efficientnet_v2_s', 1280, 'EfficientNet_V2_S')]\n",
    "\n",
    "a = 'R'\n",
    "models = [('resnet18', 512, 'ResNet18')]\n",
    "\n",
    "metrics = [\"angular\"]"
   ]
  },
  {
   "cell_type": "code",
   "execution_count": 921,
   "id": "fedc30f8",
   "metadata": {},
   "outputs": [],
   "source": [
    "'''With 1000 noise'''\n",
    "adain_scale_res_noise1 = create_results(models, metrics, comics, n1, trees_path, indexes_path, sep='_stylized_adain_noise_'+a+'_')\n",
    "adain_scale_res_noise2 = create_results(models, metrics, comics, n2, trees_path, indexes_path, sep='_stylized_adain_noise_'+a+'_')\n",
    "adain_scale_res_noise3 = create_results(models, metrics, comics, n3, trees_path, indexes_path, sep='_stylized_adain_noise_'+a+'_')\n",
    "adain_scale_res_noise4 = create_results(models, metrics, comics, n4, trees_path, indexes_path, sep='_stylized_adain_noise_'+a+'_')\n",
    "adain_scale_res_noise5 = create_results(models, metrics, comics, n5, trees_path, indexes_path, sep='_stylized_adain_noise_'+a+'_')"
   ]
  },
  {
   "cell_type": "code",
   "execution_count": 922,
   "id": "43c60fb7",
   "metadata": {},
   "outputs": [],
   "source": [
    "model_scale_res_adain_noise1 = calculate_model_accuracy(adain_scale_res_noise1, matches)\n",
    "model_scale_res_adain_noise2 = calculate_model_accuracy(adain_scale_res_noise2, matches)\n",
    "model_scale_res_adain_noise3 = calculate_model_accuracy(adain_scale_res_noise3, matches)\n",
    "model_scale_res_adain_noise4 = calculate_model_accuracy(adain_scale_res_noise4, matches)\n",
    "model_scale_res_adain_noise5 = calculate_model_accuracy(adain_scale_res_noise5, matches)"
   ]
  },
  {
   "cell_type": "code",
   "execution_count": 923,
   "id": "3c803478",
   "metadata": {},
   "outputs": [
    {
     "data": {
      "text/plain": [
       "{'accuracy': {'resnet18': {'angular': 0.1111111111111111}},\n",
       " 'recall': {'resnet18': {'angular': {'pc': 0.1,\n",
       "    'photo': 0.08333333333333333}}},\n",
       " 'map': {'resnet18': {'angular': 0.04282407407407408}}}"
      ]
     },
     "execution_count": 923,
     "metadata": {},
     "output_type": "execute_result"
    }
   ],
   "source": [
    "model_scale_res_adain_noise1"
   ]
  },
  {
   "cell_type": "code",
   "execution_count": 924,
   "id": "e23cb37c",
   "metadata": {},
   "outputs": [
    {
     "data": {
      "text/plain": [
       "{'accuracy': {'resnet18': {'angular': 0.1111111111111111}},\n",
       " 'recall': {'resnet18': {'angular': {'pc': 0.1,\n",
       "    'photo': 0.08333333333333333}}},\n",
       " 'map': {'resnet18': {'angular': 0.04282407407407408}}}"
      ]
     },
     "execution_count": 924,
     "metadata": {},
     "output_type": "execute_result"
    }
   ],
   "source": [
    "model_scale_res_adain_noise2"
   ]
  },
  {
   "cell_type": "code",
   "execution_count": 925,
   "id": "955044c6",
   "metadata": {},
   "outputs": [
    {
     "data": {
      "text/plain": [
       "{'accuracy': {'resnet18': {'angular': 0.19444444444444445}},\n",
       " 'recall': {'resnet18': {'angular': {'pc': 0.3, 'photo': 0.1111111111111111}}},\n",
       " 'map': {'resnet18': {'angular': 0.0605489417989418}}}"
      ]
     },
     "execution_count": 925,
     "metadata": {},
     "output_type": "execute_result"
    }
   ],
   "source": [
    "model_scale_res_adain_noise3"
   ]
  },
  {
   "cell_type": "code",
   "execution_count": 926,
   "id": "22f05960",
   "metadata": {},
   "outputs": [
    {
     "data": {
      "text/plain": [
       "{'accuracy': {'resnet18': {'angular': 0.2222222222222222}},\n",
       " 'recall': {'resnet18': {'angular': {'pc': 0.4, 'photo': 0.1111111111111111}}},\n",
       " 'map': {'resnet18': {'angular': 0.06119493663098314}}}"
      ]
     },
     "execution_count": 926,
     "metadata": {},
     "output_type": "execute_result"
    }
   ],
   "source": [
    "model_scale_res_adain_noise4"
   ]
  },
  {
   "cell_type": "code",
   "execution_count": 927,
   "id": "a4b94caa",
   "metadata": {},
   "outputs": [
    {
     "data": {
      "text/plain": [
       "{'accuracy': {'resnet18': {'angular': 0.3055555555555556}},\n",
       " 'recall': {'resnet18': {'angular': {'pc': 0.4,\n",
       "    'photo': 0.19444444444444445}}},\n",
       " 'map': {'resnet18': {'angular': 0.06238883027490832}}}"
      ]
     },
     "execution_count": 927,
     "metadata": {},
     "output_type": "execute_result"
    }
   ],
   "source": [
    "model_scale_res_adain_noise5"
   ]
  },
  {
   "cell_type": "markdown",
   "id": "e53bea89",
   "metadata": {},
   "source": [
    "## Visualization"
   ]
  },
  {
   "cell_type": "code",
   "execution_count": null,
   "id": "1cb2a21b",
   "metadata": {},
   "outputs": [],
   "source": [
    "def addlabel(x,y, w, o='center'):\n",
    "    for i in range(len(x)):\n",
    "        plt.text(i+w, y[i]+0.001, y[i], ha = o)"
   ]
  },
  {
   "cell_type": "code",
   "execution_count": 937,
   "id": "f1dbc60a",
   "metadata": {},
   "outputs": [
    {
     "data": {
      "image/png": "[encoded data removed]",
      "text/plain": [
       "<Figure size 640x480 with 1 Axes>"
      ]
     },
     "metadata": {},
     "output_type": "display_data"
    }
   ],
   "source": [
    "import matplotlib.pyplot as plt\n",
    "import seaborn as sns\n",
    "\n",
    "sns.set_theme()\n",
    "\n",
    "X = ['6', '9', '12', '15', '18']\n",
    "# X = ['6', '12', '24', '48', '96']\n",
    "Ymap = [0.199, 0.202, 0.212, 0.217, 0.219]\n",
    "Yphoto = [0.389, 0.417, 0.528, 0.639, 0.667]\n",
    "Ypc = [0.4, 0.4, 0.5, 0.5, 0.5]\n",
    "\n",
    "X_axis = np.arange(len(X))\n",
    "w = 1.0/(3 + 2)\n",
    "\n",
    "plt.bar(X_axis, Ymap, w, label = 'mAP')\n",
    "addlabel(X, Ymap, w=0)\n",
    "\n",
    "plt.bar(X_axis+w, Ypc, w, label = 'Recall drawing')\n",
    "addlabel(X, Ypc, w)\n",
    "\n",
    "plt.bar(X_axis+w*2, Yphoto, w, label = 'Recall photo')\n",
    "addlabel(X, Yphoto, 0.5)\n",
    "\n",
    "plt.xticks(X_axis, X)\n",
    "plt.xlabel(\"N value\")\n",
    "\n",
    "plt.suptitle(\"ResNet-18\")\n",
    "plt.title(\"Testset\")\n",
    "\n",
    "plt.legend()\n",
    "plt.show()"
   ]
  },
  {
   "cell_type": "markdown",
   "id": "acd232f9",
   "metadata": {},
   "source": [
    "## Domain expert results"
   ]
  },
  {
   "cell_type": "code",
   "execution_count": null,
   "id": "0d8c15cc",
   "metadata": {},
   "outputs": [],
   "source": [
    "%%time\n",
    "models = [('resnet18', 512, 'ResNet18')]\n",
    "metrics = [\"angular\"]\n",
    "a = '1.0'\n",
    "n = 12\n",
    "\n",
    "domain_results = create_results(models, metrics, comics_sample, n, trees_path, indexes_path, sep='_stylized_adain_sample_', expert = True)\n",
    "domain_results"
   ]
  },
  {
   "cell_type": "code",
   "execution_count": null,
   "id": "133ef1bf",
   "metadata": {},
   "outputs": [],
   "source": [
    "# img = domain_results['resnet18']['angular']['comic_15.jpg']\n",
    "\n",
    "def annotate_results(init_res):\n",
    "    matches={}\n",
    "    results = {}\n",
    "    comics_count = []\n",
    "    mps_count = []\n",
    "    for model in init_res.keys():\n",
    "        matches[model] = {}\n",
    "        results[model] = {}\n",
    "        for metric in init_res[model].keys():\n",
    "            matches[model][metric] = {}\n",
    "            results[model][metric] = {}\n",
    "            for i, v in enumerate(init_res[model][metric]):\n",
    "                print(str(i+1)+\"/\" + str(len(init_res[model][metric].keys())))\n",
    "                display(init_res[model][metric][v][2].resize((512,512)))\n",
    "                grid = image_grid(list(list(zip(*init_res[model][metric][v][0]))[0]), rows=3, cols=4)\n",
    "                display(grid)\n",
    "                \n",
    "                correct = input('correct: ')\n",
    "                comics_count.append(input('comics: '))\n",
    "                mps_count.append(input('MPs: '))\n",
    "                if correct == 'return':\n",
    "                    comics_count = sum([eval(i) for i in comics_count])\n",
    "                    mps_count = sum([eval(i) for i in mps_count])\n",
    "                    \n",
    "                    return (matches, results, comics_count, mps_count)\n",
    "                try:\n",
    "                    correct = map(int, correct.split())\n",
    "                    matches[model][metric][v] = [init_res[model][metric][v][0][i-1][2] for i in correct if i < len(init_res[model][metric][v][1])]\n",
    "                    results[model][metric][v] = init_res[model][metric][v][1]\n",
    "                except:\n",
    "                    continue\n",
    "                    \n",
    "                clear_output(wait=False)\n",
    "        break\n",
    "        \n",
    "            \n",
    "    comics_count = sum([eval(i) for i in comics_count])\n",
    "    mps_count = sum([eval(i) for i in mps_count])\n",
    "    \n",
    "    return (matches, results, comics_count, mps_count)\n",
    "        \n",
    "domain_exp_results = annotate_results(domain_results)"
   ]
  },
  {
   "cell_type": "code",
   "execution_count": null,
   "id": "245a0e20",
   "metadata": {},
   "outputs": [],
   "source": [
    "# domain_exp_results = Out[797]\n",
    "# domain_exp_results[0]['resnet18']['angular']"
   ]
  },
  {
   "cell_type": "code",
   "execution_count": 878,
   "id": "f7291a87",
   "metadata": {},
   "outputs": [
    {
     "ename": "IndexError",
     "evalue": "tuple index out of range",
     "output_type": "error",
     "traceback": [
      "\u001b[0;31m--------------------------------------------------------------------------\u001b[0m",
      "\u001b[0;31mIndexError\u001b[0m                               Traceback (most recent call last)",
      "\u001b[0;32m<ipython-input-878-a22e52b4e258>\u001b[0m in \u001b[0;36m<module>\u001b[0;34m\u001b[0m\n\u001b[0;32m----> 1\u001b[0;31m \u001b[0mcomic_count\u001b[0m \u001b[0;34m=\u001b[0m \u001b[0mdomain_exp_results\u001b[0m\u001b[0;34m[\u001b[0m\u001b[0;36m2\u001b[0m\u001b[0;34m]\u001b[0m\u001b[0;34m\u001b[0m\u001b[0;34m\u001b[0m\u001b[0m\n\u001b[0m\u001b[1;32m      2\u001b[0m \u001b[0mmp_count\u001b[0m \u001b[0;34m=\u001b[0m \u001b[0mdomain_exp_results\u001b[0m\u001b[0;34m[\u001b[0m\u001b[0;36m3\u001b[0m\u001b[0;34m]\u001b[0m\u001b[0;34m\u001b[0m\u001b[0;34m\u001b[0m\u001b[0m\n",
      "\u001b[0;31mIndexError\u001b[0m: tuple index out of range"
     ]
    }
   ],
   "source": [
    "comic_count = domain_exp_results[2]\n",
    "mp_count = domain_exp_results[3]"
   ]
  },
  {
   "cell_type": "code",
   "execution_count": 854,
   "id": "f2675856",
   "metadata": {},
   "outputs": [],
   "source": [
    "keys = []\n",
    "values = []\n",
    "for k, v in zip(domain_exp_results[0]['resnet18']['angular'].keys(), \n",
    "                domain_exp_results[0]['resnet18']['angular'].values()):\n",
    "    keys.append(k)\n",
    "    if v == []:\n",
    "        values.append([np.nan])\n",
    "    else:\n",
    "        values.append(v)\n",
    "matches_dict = {'comic': keys, 'correct': values}\n",
    "domain_exp_matches = pd.DataFrame.from_dict(matches_dict)\n",
    "domain_exp_matches = domain_exp_matches.set_index('comic')"
   ]
  },
  {
   "cell_type": "code",
   "execution_count": 855,
   "id": "4a53e6fc",
   "metadata": {},
   "outputs": [
    {
     "data": {
      "text/html": [
       "<div>\n",
       "<style scoped>\n",
       "    .dataframe tbody tr th:only-of-type {\n",
       "        vertical-align: middle;\n",
       "    }\n",
       "\n",
       "    .dataframe tbody tr th {\n",
       "        vertical-align: top;\n",
       "    }\n",
       "\n",
       "    .dataframe thead th {\n",
       "        text-align: right;\n",
       "    }\n",
       "</style>\n",
       "<table border=\"1\" class=\"dataframe\">\n",
       "  <thead>\n",
       "    <tr style=\"text-align: right;\">\n",
       "      <th></th>\n",
       "      <th>correct</th>\n",
       "    </tr>\n",
       "    <tr>\n",
       "      <th>comic</th>\n",
       "      <th></th>\n",
       "    </tr>\n",
       "  </thead>\n",
       "  <tbody>\n",
       "    <tr>\n",
       "      <th>0a65a302aa8b4a8b8c56429a3cc83643.jpg</th>\n",
       "      <td>[nan]</td>\n",
       "    </tr>\n",
       "    <tr>\n",
       "      <th>0ad378af794f47b4a61fdeac548f1e49.jpg</th>\n",
       "      <td>[nan]</td>\n",
       "    </tr>\n",
       "    <tr>\n",
       "      <th>00bade79faf741c29cefcedfb29268e0.jpg</th>\n",
       "      <td>[d87f5f92ff194f00aa3dba78b27132cc.jpg]</td>\n",
       "    </tr>\n",
       "    <tr>\n",
       "      <th>0b48fa2bf8064d65b0825909ca45034f.jpg</th>\n",
       "      <td>[f86225da0d6c449098743ead63488ac6.jpg]</td>\n",
       "    </tr>\n",
       "    <tr>\n",
       "      <th>0a4d377a150a462385a3b016fe1e4f27.jpg</th>\n",
       "      <td>[nan]</td>\n",
       "    </tr>\n",
       "    <tr>\n",
       "      <th>...</th>\n",
       "      <td>...</td>\n",
       "    </tr>\n",
       "    <tr>\n",
       "      <th>0a6a7164b5e443fa9da9d1aa7eedb329.jpg</th>\n",
       "      <td>[nan]</td>\n",
       "    </tr>\n",
       "    <tr>\n",
       "      <th>0a37f7b7f9c340bc826531ec1a2032cc.jpg</th>\n",
       "      <td>[nan]</td>\n",
       "    </tr>\n",
       "    <tr>\n",
       "      <th>0b75417d7af142e6ad7d85a92ed4f187.jpg</th>\n",
       "      <td>[nan]</td>\n",
       "    </tr>\n",
       "    <tr>\n",
       "      <th>0b84e69fab6148dcb5f6e766daf0116c.jpg</th>\n",
       "      <td>[nan]</td>\n",
       "    </tr>\n",
       "    <tr>\n",
       "      <th>0a3a5241739f4fa7a1d49fe0f39e833b.jpg</th>\n",
       "      <td>[nan]</td>\n",
       "    </tr>\n",
       "  </tbody>\n",
       "</table>\n",
       "<p>201 rows × 1 columns</p>\n",
       "</div>"
      ],
      "text/plain": [
       "                                                                     correct\n",
       "comic                                                                       \n",
       "0a65a302aa8b4a8b8c56429a3cc83643.jpg                                   [nan]\n",
       "0ad378af794f47b4a61fdeac548f1e49.jpg                                   [nan]\n",
       "00bade79faf741c29cefcedfb29268e0.jpg  [d87f5f92ff194f00aa3dba78b27132cc.jpg]\n",
       "0b48fa2bf8064d65b0825909ca45034f.jpg  [f86225da0d6c449098743ead63488ac6.jpg]\n",
       "0a4d377a150a462385a3b016fe1e4f27.jpg                                   [nan]\n",
       "...                                                                      ...\n",
       "0a6a7164b5e443fa9da9d1aa7eedb329.jpg                                   [nan]\n",
       "0a37f7b7f9c340bc826531ec1a2032cc.jpg                                   [nan]\n",
       "0b75417d7af142e6ad7d85a92ed4f187.jpg                                   [nan]\n",
       "0b84e69fab6148dcb5f6e766daf0116c.jpg                                   [nan]\n",
       "0a3a5241739f4fa7a1d49fe0f39e833b.jpg                                   [nan]\n",
       "\n",
       "[201 rows x 1 columns]"
      ]
     },
     "execution_count": 855,
     "metadata": {},
     "output_type": "execute_result"
    }
   ],
   "source": [
    "domain_exp_matches"
   ]
  },
  {
   "cell_type": "code",
   "execution_count": 856,
   "id": "2f78fe8e",
   "metadata": {},
   "outputs": [
    {
     "data": {
      "text/plain": [
       "{'accuracy': {'resnet18': {'angular': 0.15920398009950248}},\n",
       " 'recall': {'resnet18': {'angular': {'pc': 0.1, 'photo': 0.0}}},\n",
       " 'map': {'resnet18': {'angular': 0.06141981291235023}}}"
      ]
     },
     "execution_count": 856,
     "metadata": {},
     "output_type": "execute_result"
    }
   ],
   "source": [
    "calculate_model_accuracy(domain_exp_results[1], domain_exp_matches)"
   ]
  },
  {
   "cell_type": "code",
   "execution_count": 877,
   "id": "de4d732d",
   "metadata": {},
   "outputs": [
    {
     "name": "stdout",
     "output_type": "stream",
     "text": [
      "388\n",
      "186\n"
     ]
    }
   ],
   "source": [
    "value_list = []\n",
    "for v in domain_exp_results[1]['resnet18']['angular'].values():\n",
    "    value_list += v\n",
    "distinct = len(set(value_list))\n",
    "print(distinct)\n",
    "count_dict = Counter(value_list)\n",
    "\n",
    "unique = list(count_dict.values()).count(1)\n",
    "print(unique)"
   ]
  },
  {
   "cell_type": "markdown",
   "id": "d859abd1",
   "metadata": {},
   "source": [
    "# Notes"
   ]
  },
  {
   "cell_type": "markdown",
   "id": "c5712007",
   "metadata": {},
   "source": [
    "### OLD"
   ]
  },
  {
   "cell_type": "code",
   "execution_count": null,
   "id": "b8c1ac38",
   "metadata": {},
   "outputs": [],
   "source": [
    "# class Evaluation():\n",
    "#     def __init__(self, method_str = None):\n",
    "#         if method_str != None and method_str.lower() == 'manhattan':\n",
    "#             method_str = 'cityblock'\n",
    "#         self.dist_method = method_str if method_str is not None else 'euclidean'\n",
    "    \n",
    "#     def tensor_to_array(self, ten):\n",
    "#         arr = ten.squeeze(0).detach().numpy().flatten()\n",
    "#         # arr = [v.flatten() for v in arr]\n",
    "#         return np.array([arr])\n",
    "    \n",
    "#     def distance(self, vec1, vec2):\n",
    "#         return distance.cdist(vec1, vec2, self.dist_method)[0][0]"
   ]
  },
  {
   "cell_type": "code",
   "execution_count": null,
   "id": "85ebf4ce",
   "metadata": {},
   "outputs": [],
   "source": [
    "# grid = image_grid(list(list(zip(*en2_img))[0]), rows=2, cols=3)\n",
    "# grid"
   ]
  },
  {
   "cell_type": "code",
   "execution_count": null,
   "id": "1346bb05",
   "metadata": {},
   "outputs": [],
   "source": [
    "# %%time\n",
    "# models = [('resnet18', 512, 'ResNet18'), ('vgg16', 512, 'VGG16'), \n",
    "#           ('efficientnet_v2_s', 1280, 'EfficientNet_V2_S')]\n",
    "# dm = [\"angular\", \"euclidean\", \"manhattan\", \"hamming\",  \"dot\"]\n",
    "\n",
    "# for m in models:\n",
    "#     w = m[2]+'_Weights.DEFAULT'\n",
    "#     model = Model(m[0], [3, 256, 256], weights=w)\n",
    "#     model.feature_extractor('avgpool', 'avgpool')\n",
    "    \n",
    "#     photos_embedded_conv = model.embed(photos_conv)\n",
    "#     pcs_embedded_conv = model.embed(pcs_conv)\n",
    "    \n",
    "#     if m[0] != 'vgg16':\n",
    "#         photos_embedded_conv_flat = [(photo[0].squeeze(0).detach().numpy().flatten(), photo[1], photo[2], photo[3]) for photo in photos_embedded_conv]\n",
    "#         pcs_embedded_conv_flat = [(pc[0].squeeze(0).detach().numpy().flatten(), pc[1], pc[2], pc[3]) for pc in pcs_embedded_conv]\n",
    "#     else:\n",
    "#         photos_embedded_conv_flat = [(mean_vgg16(photo[0]), photo[1], photo[2], photo[3]) for photo in photos_embedded_conv]\n",
    "#         pcs_embedded_conv_flat = [(mean_vgg16(pc[0]), pc[1], pc[2], pc[3]) for pc in pcs_embedded_conv]\n",
    "        \n",
    "#     for d in dm:\n",
    "#         if d == 'dot':\n",
    "#             photos_embedded_conv_flat = [(preprocessing.normalize([photo[0]], norm='l2').flatten(), photo[1], photo[2], photo[3]) for photo in photos_embedded_conv_flat]\n",
    "#             pcs_embedded_conv_flat = [(preprocessing.normalize([pc[0]], norm='l2').flatten(), pc[1], pc[2], pc[3]) for pc in pcs_embedded_conv_flat]\n",
    "#         tree = Tree(m[1], d)\n",
    "#         tree.buildTree([photos_embedded_conv_flat, pcs_embedded_conv_flat], m[0]+'_conv_'+d)"
   ]
  },
  {
   "cell_type": "code",
   "execution_count": null,
   "id": "81e8164d",
   "metadata": {},
   "outputs": [],
   "source": [
    "# %%time\n",
    "# models = [('resnet18', 512, 'ResNet18'), ('vgg16', 512, 'VGG16'), \n",
    "#           ('efficientnet_v2_s', 1280, 'EfficientNet_V2_S')]\n",
    "# dm = [\"angular\", \"euclidean\", \"manhattan\", \"hamming\",  \"dot\"]\n",
    "\n",
    "# for m in models:\n",
    "#     w = m[2]+'_Weights.DEFAULT'\n",
    "#     model = Model(m[0], [3, 256, 256], weights=w)\n",
    "#     model.feature_extractor('avgpool', 'avgpool')\n",
    "    \n",
    "#     photos_embedded_stylized = model.embed(photos_stylized)\n",
    "#     pcs_embedded = model.embed(pcs)\n",
    "    \n",
    "#     if m[0] != 'vgg16':\n",
    "#         photos_embedded_stylized_flat = [(photo[0].squeeze(0).detach().numpy().flatten(), photo[1], photo[2], photo[3]) for photo in photos_embedded_stylized]\n",
    "#         pcs_embedded_flat = [(pc[0].squeeze(0).detach().numpy().flatten(), pc[1], pc[2], pc[3]) for pc in pcs_embedded]\n",
    "#     else:\n",
    "#         photos_embedded_stylized_flat = [(mean_vgg16(photo[0]), photo[1], photo[2], photo[3]) for photo in photos_embedded_stylized]\n",
    "#         pcs_embedded_flat = [(mean_vgg16(pc[0]), pc[1], pc[2], pc[3]) for pc in pcs_embedded]\n",
    "        \n",
    "#     for d in dm:\n",
    "#         if d == 'dot':\n",
    "#             photos_embedded_stylized_flat = [(preprocessing.normalize([photo[0]], norm='l2').flatten(), photo[1], photo[2], photo[3]) for photo in photos_embedded_stylized_flat]\n",
    "#             pcs_embedded_flat = [(preprocessing.normalize([pc[0]], norm='l2').flatten(), pc[1], pc[2], pc[3]) for pc in pcs_embedded_flat]\n",
    "#         tree = Tree(m[1], d)\n",
    "#         tree.buildTree([photos_embedded_stylized_flat, pcs_embedded_flat], m[0]+'_stylized_'+d)"
   ]
  },
  {
   "cell_type": "code",
   "execution_count": null,
   "id": "a8a28175",
   "metadata": {},
   "outputs": [],
   "source": [
    "# %%time\n",
    "# models = [('resnet18', 512, 'ResNet18'), ('vgg16', 512, 'VGG16'), \n",
    "#           ('efficientnet_v2_s', 1280, 'EfficientNet_V2_S')]\n",
    "# dm = [\"angular\", \"euclidean\", \"manhattan\", \"hamming\",  \"dot\"]\n",
    "\n",
    "# for m in models:\n",
    "#     w = m[2]+'_Weights.DEFAULT'\n",
    "#     model = Model(m[0], [3, 256, 256], weights=w)\n",
    "#     model.feature_extractor('avgpool', 'avgpool')\n",
    "    \n",
    "#     photos_embedded = model.embed(photos)\n",
    "#     pcs_embedded = model.embed(pcs)\n",
    "    \n",
    "#     if m[0] != 'vgg16':\n",
    "#         photos_embedded_flat = [(photo[0].squeeze(0).detach().numpy().flatten(), photo[1], photo[2], photo[3]) for photo in photos_embedded]\n",
    "#         pcs_embedded_flat = [(pc[0].squeeze(0).detach().numpy().flatten(), pc[1], pc[2], pc[3]) for pc in pcs_embedded]\n",
    "#     else:\n",
    "#         photos_embedded_flat = [(mean_vgg16(photo[0]), photo[1], photo[2], photo[3]) for photo in photos_embedded]\n",
    "#         pcs_embedded_flat = [(mean_vgg16(pc[0]), pc[1], pc[2], pc[3]) for pc in pcs_embedded]\n",
    "        \n",
    "#     for d in dm:\n",
    "#         if d == 'dot':\n",
    "#             photos_embedded_flat = [(preprocessing.normalize([photo[0]], norm='l2').flatten(), photo[1], photo[2], photo[3]) for photo in photos_embedded_flat]\n",
    "#             pcs_embedded_flat = [(preprocessing.normalize([pc[0]], norm='l2').flatten(), pc[1], pc[2], pc[3]) for pc in pcs_embedded_flat]\n",
    "#         tree = Tree(m[1], d)\n",
    "#         tree.buildTree([photos_embedded_flat, pcs_embedded_flat], m[0]+'_'+d)"
   ]
  },
  {
   "cell_type": "code",
   "execution_count": null,
   "id": "1bd97598",
   "metadata": {},
   "outputs": [],
   "source": [
    "# %%time\n",
    "# '''\n",
    "# ResNet-18 model\n",
    "# '''\n",
    "# res_model = Model('resnet18', [3, 256, 256], weights = 'ResNet18_Weights.DEFAULT')\n",
    "# res_model.feature_extractor('avgpool', 'avgpool')\n",
    "\n",
    "# # Regular embedding\n",
    "# res_comics_embedded = res_model.embed(comics)\n",
    "# res_comics_embedded = [(comic[0].squeeze(0).detach().numpy().flatten(), comic[1], comic[2], comic[3]) for comic in res_comics_embedded]\n",
    "\n",
    "# # Convolved embedding\n",
    "# res_comics_embedded_conv = res_model.embed(comics_conv)\n",
    "# res_comics_embedded_conv = [(comic[0].squeeze(0).detach().numpy().flatten(), comic[1], comic[2], comic[3]) for comic in res_comics_embedded_conv]"
   ]
  },
  {
   "cell_type": "code",
   "execution_count": null,
   "id": "9a4610d2",
   "metadata": {},
   "outputs": [],
   "source": [
    "# '''\n",
    "# VGG-16 model\n",
    "# '''\n",
    "# vgg_model = Model('vgg16', [3, 256, 256], weights = 'VGG16_Weights.DEFAULT')\n",
    "# vgg_model.feature_extractor('avgpool', 'avgpool')\n",
    "# t = Transform().transformer\n",
    "\n",
    "# # Regular embedding\n",
    "# vgg_comics_embedded = vgg_model.embed(comics)\n",
    "# vgg_comics_embedded = [(mean_vgg16(comic[0]), comic[1], comic[2], comic[3]) for comic in vgg_comics_embedded]\n",
    "\n",
    "# # Convolved embedding\n",
    "# vgg_comics_embedded_conv = vgg_model.embed(comics_conv)\n",
    "# vgg_comics_embedded_conv = [(mean_vgg16(comic[0]), comic[1], comic[2], comic[3]) for comic in vgg_comics_embedded_conv]"
   ]
  },
  {
   "cell_type": "code",
   "execution_count": null,
   "id": "37d5dc18",
   "metadata": {},
   "outputs": [],
   "source": [
    "# '''\n",
    "# EfficentNetV2 model\n",
    "# '''\n",
    "# en2_model = Model('efficientnet_v2_s', [3, 256, 256], weights = 'EfficientNet_V2_S_Weights.DEFAULT')\n",
    "# en2_model.feature_extractor('avgpool', 'avgpool')\n",
    "\n",
    "# # Regular embedding\n",
    "# en2_comics_embedded = en2_model.embed(comics)\n",
    "# en2_comics_embedded = [(comic[0].squeeze(0).detach().numpy().flatten(), comic[1], comic[2], comic[3]) for comic in en2_comics_embedded]\n",
    "\n",
    "# # Convolved embedding\n",
    "# en2_comics_embedded_conv = en2_model.embed(comics_conv)\n",
    "# en2_comics_embedded_conv = [(comic[0].squeeze(0).detach().numpy().flatten(), comic[1], comic[2], comic[3]) for comic in en2_comics_embedded_conv]"
   ]
  }
 ],
 "metadata": {
  "kernelspec": {
   "display_name": "Python 3",
   "language": "python",
   "name": "python3"
  },
  "language_info": {
   "codemirror_mode": {
    "name": "ipython",
    "version": 3
   },
   "file_extension": ".py",
   "mimetype": "text/x-python",
   "name": "python",
   "nbconvert_exporter": "python",
   "pygments_lexer": "ipython3",
   "version": "3.8.12"
  }
 },
 "nbformat": 4,
 "nbformat_minor": 5
}
